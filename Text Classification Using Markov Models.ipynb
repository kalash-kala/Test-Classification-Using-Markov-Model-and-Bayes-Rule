{
 "cells": [
  {
   "cell_type": "code",
   "execution_count": 1,
   "metadata": {},
   "outputs": [],
   "source": [
    "from collections import defaultdict\n",
    "from sklearn.model_selection import train_test_split\n",
    "from sklearn.metrics import classification_report, confusion_matrix, ConfusionMatrixDisplay\n",
    "\n",
    "\n",
    "import pandas as pd\n",
    "import numpy as np\n",
    "import seaborn as sns\n",
    "import string"
   ]
  },
  {
   "cell_type": "code",
   "execution_count": 2,
   "metadata": {},
   "outputs": [],
   "source": [
    "poems = defaultdict(list)"
   ]
  },
  {
   "attachments": {},
   "cell_type": "markdown",
   "metadata": {},
   "source": [
    "### Reading Dataset and creating dataframe"
   ]
  },
  {
   "cell_type": "code",
   "execution_count": 3,
   "metadata": {},
   "outputs": [],
   "source": [
    "with open('robert_frost.txt') as f:\n",
    "    poems['text'] = f.readlines()"
   ]
  },
  {
   "cell_type": "code",
   "execution_count": 4,
   "metadata": {},
   "outputs": [
    {
     "data": {
      "text/plain": [
       "1581"
      ]
     },
     "execution_count": 4,
     "metadata": {},
     "output_type": "execute_result"
    }
   ],
   "source": [
    "len(poems['text'])"
   ]
  },
  {
   "cell_type": "code",
   "execution_count": 5,
   "metadata": {},
   "outputs": [],
   "source": [
    "poems['labels'] = ['Robert Frost']*len(poems['text'])"
   ]
  },
  {
   "cell_type": "code",
   "execution_count": 6,
   "metadata": {},
   "outputs": [],
   "source": [
    "with open('edgar_allan_poe.txt') as f:\n",
    "    l = f.readlines()"
   ]
  },
  {
   "cell_type": "code",
   "execution_count": 7,
   "metadata": {},
   "outputs": [],
   "source": [
    "poems['text'] = poems['text'] + l"
   ]
  },
  {
   "cell_type": "code",
   "execution_count": 8,
   "metadata": {},
   "outputs": [],
   "source": [
    "poems['labels'] = poems['labels'] + ['Edgar Allan Poe']*len(l)"
   ]
  },
  {
   "cell_type": "code",
   "execution_count": 9,
   "metadata": {},
   "outputs": [
    {
     "data": {
      "text/html": [
       "<div>\n",
       "<style scoped>\n",
       "    .dataframe tbody tr th:only-of-type {\n",
       "        vertical-align: middle;\n",
       "    }\n",
       "\n",
       "    .dataframe tbody tr th {\n",
       "        vertical-align: top;\n",
       "    }\n",
       "\n",
       "    .dataframe thead th {\n",
       "        text-align: right;\n",
       "    }\n",
       "</style>\n",
       "<table border=\"1\" class=\"dataframe\">\n",
       "  <thead>\n",
       "    <tr style=\"text-align: right;\">\n",
       "      <th></th>\n",
       "      <th>text</th>\n",
       "      <th>labels</th>\n",
       "    </tr>\n",
       "  </thead>\n",
       "  <tbody>\n",
       "    <tr>\n",
       "      <th>0</th>\n",
       "      <td>Two roads diverged in a yellow wood,\\n</td>\n",
       "      <td>Robert Frost</td>\n",
       "    </tr>\n",
       "    <tr>\n",
       "      <th>1</th>\n",
       "      <td>And sorry I could not travel both\\n</td>\n",
       "      <td>Robert Frost</td>\n",
       "    </tr>\n",
       "    <tr>\n",
       "      <th>2</th>\n",
       "      <td>And be one traveler, long I stood\\n</td>\n",
       "      <td>Robert Frost</td>\n",
       "    </tr>\n",
       "    <tr>\n",
       "      <th>3</th>\n",
       "      <td>And looked down one as far as I could\\n</td>\n",
       "      <td>Robert Frost</td>\n",
       "    </tr>\n",
       "    <tr>\n",
       "      <th>4</th>\n",
       "      <td>To where it bent in the undergrowth; \\n</td>\n",
       "      <td>Robert Frost</td>\n",
       "    </tr>\n",
       "    <tr>\n",
       "      <th>...</th>\n",
       "      <td>...</td>\n",
       "      <td>...</td>\n",
       "    </tr>\n",
       "    <tr>\n",
       "      <th>2373</th>\n",
       "      <td>To a discordant melody;\\n</td>\n",
       "      <td>Edgar Allan Poe</td>\n",
       "    </tr>\n",
       "    <tr>\n",
       "      <th>2374</th>\n",
       "      <td>While, like a rapid ghastly river,\\n</td>\n",
       "      <td>Edgar Allan Poe</td>\n",
       "    </tr>\n",
       "    <tr>\n",
       "      <th>2375</th>\n",
       "      <td>Through the pale door,\\n</td>\n",
       "      <td>Edgar Allan Poe</td>\n",
       "    </tr>\n",
       "    <tr>\n",
       "      <th>2376</th>\n",
       "      <td>A hideous throng rush out forever,\\n</td>\n",
       "      <td>Edgar Allan Poe</td>\n",
       "    </tr>\n",
       "    <tr>\n",
       "      <th>2377</th>\n",
       "      <td>And laugh --but smile no more.</td>\n",
       "      <td>Edgar Allan Poe</td>\n",
       "    </tr>\n",
       "  </tbody>\n",
       "</table>\n",
       "<p>2378 rows × 2 columns</p>\n",
       "</div>"
      ],
      "text/plain": [
       "                                         text           labels\n",
       "0      Two roads diverged in a yellow wood,\\n     Robert Frost\n",
       "1         And sorry I could not travel both\\n     Robert Frost\n",
       "2         And be one traveler, long I stood\\n     Robert Frost\n",
       "3     And looked down one as far as I could\\n     Robert Frost\n",
       "4     To where it bent in the undergrowth; \\n     Robert Frost\n",
       "...                                       ...              ...\n",
       "2373                To a discordant melody;\\n  Edgar Allan Poe\n",
       "2374     While, like a rapid ghastly river,\\n  Edgar Allan Poe\n",
       "2375                 Through the pale door,\\n  Edgar Allan Poe\n",
       "2376     A hideous throng rush out forever,\\n  Edgar Allan Poe\n",
       "2377           And laugh --but smile no more.  Edgar Allan Poe\n",
       "\n",
       "[2378 rows x 2 columns]"
      ]
     },
     "execution_count": 9,
     "metadata": {},
     "output_type": "execute_result"
    }
   ],
   "source": [
    "poems = pd.DataFrame.from_dict(poems)\n",
    "poems"
   ]
  },
  {
   "cell_type": "code",
   "execution_count": 10,
   "metadata": {},
   "outputs": [
    {
     "data": {
      "text/plain": [
       "1"
      ]
     },
     "execution_count": 10,
     "metadata": {},
     "output_type": "execute_result"
    }
   ],
   "source": [
    "# Noticed Empty String\n",
    "len(poems.loc[768]['text'])"
   ]
  },
  {
   "cell_type": "code",
   "execution_count": 11,
   "metadata": {},
   "outputs": [
    {
     "name": "stdout",
     "output_type": "stream",
     "text": [
      "\n",
      "\n"
     ]
    }
   ],
   "source": [
    "print(poems.loc[768]['text'])"
   ]
  },
  {
   "attachments": {},
   "cell_type": "markdown",
   "metadata": {},
   "source": [
    "### Function to remove common punctuation and lower case the sentence"
   ]
  },
  {
   "cell_type": "code",
   "execution_count": 12,
   "metadata": {},
   "outputs": [],
   "source": [
    "# Removing newline character and lowering the case\n",
    "poems['text'] = poems['text'].apply(lambda x : x.rstrip().lower())\n",
    "\n",
    "# Removing the Punctuation \n",
    "poems['text'] = poems['text'].apply(lambda x : x.translate(str.maketrans('','',string.punctuation)))"
   ]
  },
  {
   "cell_type": "code",
   "execution_count": 13,
   "metadata": {},
   "outputs": [
    {
     "data": {
      "text/html": [
       "<div>\n",
       "<style scoped>\n",
       "    .dataframe tbody tr th:only-of-type {\n",
       "        vertical-align: middle;\n",
       "    }\n",
       "\n",
       "    .dataframe tbody tr th {\n",
       "        vertical-align: top;\n",
       "    }\n",
       "\n",
       "    .dataframe thead th {\n",
       "        text-align: right;\n",
       "    }\n",
       "</style>\n",
       "<table border=\"1\" class=\"dataframe\">\n",
       "  <thead>\n",
       "    <tr style=\"text-align: right;\">\n",
       "      <th></th>\n",
       "      <th>text</th>\n",
       "      <th>labels</th>\n",
       "    </tr>\n",
       "  </thead>\n",
       "  <tbody>\n",
       "    <tr>\n",
       "      <th>0</th>\n",
       "      <td>two roads diverged in a yellow wood</td>\n",
       "      <td>Robert Frost</td>\n",
       "    </tr>\n",
       "    <tr>\n",
       "      <th>1</th>\n",
       "      <td>and sorry i could not travel both</td>\n",
       "      <td>Robert Frost</td>\n",
       "    </tr>\n",
       "    <tr>\n",
       "      <th>2</th>\n",
       "      <td>and be one traveler long i stood</td>\n",
       "      <td>Robert Frost</td>\n",
       "    </tr>\n",
       "    <tr>\n",
       "      <th>3</th>\n",
       "      <td>and looked down one as far as i could</td>\n",
       "      <td>Robert Frost</td>\n",
       "    </tr>\n",
       "    <tr>\n",
       "      <th>4</th>\n",
       "      <td>to where it bent in the undergrowth</td>\n",
       "      <td>Robert Frost</td>\n",
       "    </tr>\n",
       "    <tr>\n",
       "      <th>...</th>\n",
       "      <td>...</td>\n",
       "      <td>...</td>\n",
       "    </tr>\n",
       "    <tr>\n",
       "      <th>2373</th>\n",
       "      <td>to a discordant melody</td>\n",
       "      <td>Edgar Allan Poe</td>\n",
       "    </tr>\n",
       "    <tr>\n",
       "      <th>2374</th>\n",
       "      <td>while like a rapid ghastly river</td>\n",
       "      <td>Edgar Allan Poe</td>\n",
       "    </tr>\n",
       "    <tr>\n",
       "      <th>2375</th>\n",
       "      <td>through the pale door</td>\n",
       "      <td>Edgar Allan Poe</td>\n",
       "    </tr>\n",
       "    <tr>\n",
       "      <th>2376</th>\n",
       "      <td>a hideous throng rush out forever</td>\n",
       "      <td>Edgar Allan Poe</td>\n",
       "    </tr>\n",
       "    <tr>\n",
       "      <th>2377</th>\n",
       "      <td>and laugh but smile no more</td>\n",
       "      <td>Edgar Allan Poe</td>\n",
       "    </tr>\n",
       "  </tbody>\n",
       "</table>\n",
       "<p>2378 rows × 2 columns</p>\n",
       "</div>"
      ],
      "text/plain": [
       "                                       text           labels\n",
       "0       two roads diverged in a yellow wood     Robert Frost\n",
       "1         and sorry i could not travel both     Robert Frost\n",
       "2          and be one traveler long i stood     Robert Frost\n",
       "3     and looked down one as far as i could     Robert Frost\n",
       "4       to where it bent in the undergrowth     Robert Frost\n",
       "...                                     ...              ...\n",
       "2373                 to a discordant melody  Edgar Allan Poe\n",
       "2374       while like a rapid ghastly river  Edgar Allan Poe\n",
       "2375                  through the pale door  Edgar Allan Poe\n",
       "2376      a hideous throng rush out forever  Edgar Allan Poe\n",
       "2377            and laugh but smile no more  Edgar Allan Poe\n",
       "\n",
       "[2378 rows x 2 columns]"
      ]
     },
     "execution_count": 13,
     "metadata": {},
     "output_type": "execute_result"
    }
   ],
   "source": [
    "poems"
   ]
  },
  {
   "attachments": {},
   "cell_type": "markdown",
   "metadata": {},
   "source": [
    "### Drop Empty Strings from the dataframe"
   ]
  },
  {
   "cell_type": "code",
   "execution_count": 14,
   "metadata": {},
   "outputs": [
    {
     "data": {
      "text/html": [
       "<div>\n",
       "<style scoped>\n",
       "    .dataframe tbody tr th:only-of-type {\n",
       "        vertical-align: middle;\n",
       "    }\n",
       "\n",
       "    .dataframe tbody tr th {\n",
       "        vertical-align: top;\n",
       "    }\n",
       "\n",
       "    .dataframe thead th {\n",
       "        text-align: right;\n",
       "    }\n",
       "</style>\n",
       "<table border=\"1\" class=\"dataframe\">\n",
       "  <thead>\n",
       "    <tr style=\"text-align: right;\">\n",
       "      <th></th>\n",
       "      <th>text</th>\n",
       "      <th>labels</th>\n",
       "    </tr>\n",
       "  </thead>\n",
       "  <tbody>\n",
       "    <tr>\n",
       "      <th>5</th>\n",
       "      <td></td>\n",
       "      <td>Robert Frost</td>\n",
       "    </tr>\n",
       "    <tr>\n",
       "      <th>11</th>\n",
       "      <td></td>\n",
       "      <td>Robert Frost</td>\n",
       "    </tr>\n",
       "    <tr>\n",
       "      <th>17</th>\n",
       "      <td></td>\n",
       "      <td>Robert Frost</td>\n",
       "    </tr>\n",
       "    <tr>\n",
       "      <th>23</th>\n",
       "      <td></td>\n",
       "      <td>Robert Frost</td>\n",
       "    </tr>\n",
       "    <tr>\n",
       "      <th>28</th>\n",
       "      <td></td>\n",
       "      <td>Robert Frost</td>\n",
       "    </tr>\n",
       "    <tr>\n",
       "      <th>...</th>\n",
       "      <td>...</td>\n",
       "      <td>...</td>\n",
       "    </tr>\n",
       "    <tr>\n",
       "      <th>2333</th>\n",
       "      <td></td>\n",
       "      <td>Edgar Allan Poe</td>\n",
       "    </tr>\n",
       "    <tr>\n",
       "      <th>2342</th>\n",
       "      <td></td>\n",
       "      <td>Edgar Allan Poe</td>\n",
       "    </tr>\n",
       "    <tr>\n",
       "      <th>2351</th>\n",
       "      <td></td>\n",
       "      <td>Edgar Allan Poe</td>\n",
       "    </tr>\n",
       "    <tr>\n",
       "      <th>2360</th>\n",
       "      <td></td>\n",
       "      <td>Edgar Allan Poe</td>\n",
       "    </tr>\n",
       "    <tr>\n",
       "      <th>2369</th>\n",
       "      <td></td>\n",
       "      <td>Edgar Allan Poe</td>\n",
       "    </tr>\n",
       "  </tbody>\n",
       "</table>\n",
       "<p>224 rows × 2 columns</p>\n",
       "</div>"
      ],
      "text/plain": [
       "     text           labels\n",
       "5             Robert Frost\n",
       "11            Robert Frost\n",
       "17            Robert Frost\n",
       "23            Robert Frost\n",
       "28            Robert Frost\n",
       "...   ...              ...\n",
       "2333       Edgar Allan Poe\n",
       "2342       Edgar Allan Poe\n",
       "2351       Edgar Allan Poe\n",
       "2360       Edgar Allan Poe\n",
       "2369       Edgar Allan Poe\n",
       "\n",
       "[224 rows x 2 columns]"
      ]
     },
     "execution_count": 14,
     "metadata": {},
     "output_type": "execute_result"
    }
   ],
   "source": [
    "poems.loc[poems['text']=='']"
   ]
  },
  {
   "cell_type": "code",
   "execution_count": 15,
   "metadata": {},
   "outputs": [
    {
     "data": {
      "text/html": [
       "<div>\n",
       "<style scoped>\n",
       "    .dataframe tbody tr th:only-of-type {\n",
       "        vertical-align: middle;\n",
       "    }\n",
       "\n",
       "    .dataframe tbody tr th {\n",
       "        vertical-align: top;\n",
       "    }\n",
       "\n",
       "    .dataframe thead th {\n",
       "        text-align: right;\n",
       "    }\n",
       "</style>\n",
       "<table border=\"1\" class=\"dataframe\">\n",
       "  <thead>\n",
       "    <tr style=\"text-align: right;\">\n",
       "      <th></th>\n",
       "      <th>text</th>\n",
       "      <th>labels</th>\n",
       "    </tr>\n",
       "  </thead>\n",
       "  <tbody>\n",
       "  </tbody>\n",
       "</table>\n",
       "</div>"
      ],
      "text/plain": [
       "Empty DataFrame\n",
       "Columns: [text, labels]\n",
       "Index: []"
      ]
     },
     "execution_count": 15,
     "metadata": {},
     "output_type": "execute_result"
    }
   ],
   "source": [
    "poems = poems.drop(poems.loc[poems['text']==''].index)\n",
    "poems.loc[poems['text']=='']"
   ]
  },
  {
   "cell_type": "code",
   "execution_count": 16,
   "metadata": {},
   "outputs": [
    {
     "data": {
      "text/plain": [
       "Robert Frost       1436\n",
       "Edgar Allan Poe     718\n",
       "Name: labels, dtype: int64"
      ]
     },
     "execution_count": 16,
     "metadata": {},
     "output_type": "execute_result"
    }
   ],
   "source": [
    "poems['labels'].value_counts()"
   ]
  },
  {
   "cell_type": "code",
   "execution_count": 17,
   "metadata": {},
   "outputs": [
    {
     "data": {
      "text/plain": [
       "<AxesSubplot:xlabel='labels', ylabel='count'>"
      ]
     },
     "execution_count": 17,
     "metadata": {},
     "output_type": "execute_result"
    },
    {
     "data": {
      "image/png": "[encoded data removed]",
      "text/plain": [
       "<Figure size 432x288 with 1 Axes>"
      ]
     },
     "metadata": {
      "needs_background": "light"
     },
     "output_type": "display_data"
    }
   ],
   "source": [
    "sns.countplot(data=poems,x='labels')\n",
    "# From the graph below we can see that the data is imbalanced"
   ]
  },
  {
   "cell_type": "code",
   "execution_count": 18,
   "metadata": {},
   "outputs": [],
   "source": [
    "y = poems['labels']"
   ]
  },
  {
   "attachments": {},
   "cell_type": "markdown",
   "metadata": {},
   "source": [
    "### Splitting the Data into train and test set"
   ]
  },
  {
   "cell_type": "code",
   "execution_count": 19,
   "metadata": {},
   "outputs": [],
   "source": [
    "X_train, X_test, y_train, y_test = train_test_split(poems, y, test_size=0.3, random_state=101)"
   ]
  },
  {
   "cell_type": "code",
   "execution_count": 20,
   "metadata": {},
   "outputs": [
    {
     "data": {
      "text/plain": [
       "Robert Frost       999\n",
       "Edgar Allan Poe    508\n",
       "Name: labels, dtype: int64"
      ]
     },
     "execution_count": 20,
     "metadata": {},
     "output_type": "execute_result"
    }
   ],
   "source": [
    "y_train.value_counts()"
   ]
  },
  {
   "cell_type": "code",
   "execution_count": 21,
   "metadata": {},
   "outputs": [
    {
     "data": {
      "text/html": [
       "<div>\n",
       "<style scoped>\n",
       "    .dataframe tbody tr th:only-of-type {\n",
       "        vertical-align: middle;\n",
       "    }\n",
       "\n",
       "    .dataframe tbody tr th {\n",
       "        vertical-align: top;\n",
       "    }\n",
       "\n",
       "    .dataframe thead th {\n",
       "        text-align: right;\n",
       "    }\n",
       "</style>\n",
       "<table border=\"1\" class=\"dataframe\">\n",
       "  <thead>\n",
       "    <tr style=\"text-align: right;\">\n",
       "      <th></th>\n",
       "      <th>text</th>\n",
       "      <th>labels</th>\n",
       "    </tr>\n",
       "  </thead>\n",
       "  <tbody>\n",
       "    <tr>\n",
       "      <th>1546</th>\n",
       "      <td>john threw the door wide but he didnt enter</td>\n",
       "      <td>Robert Frost</td>\n",
       "    </tr>\n",
       "    <tr>\n",
       "      <th>302</th>\n",
       "      <td>that as a witch id often milk a bat</td>\n",
       "      <td>Robert Frost</td>\n",
       "    </tr>\n",
       "    <tr>\n",
       "      <th>2340</th>\n",
       "      <td>along the ramparts plumed and pallid</td>\n",
       "      <td>Edgar Allan Poe</td>\n",
       "    </tr>\n",
       "    <tr>\n",
       "      <th>1178</th>\n",
       "      <td>drink and be whole again beyond confusion</td>\n",
       "      <td>Robert Frost</td>\n",
       "    </tr>\n",
       "    <tr>\n",
       "      <th>140</th>\n",
       "      <td>one lizard at the end of every ray</td>\n",
       "      <td>Robert Frost</td>\n",
       "    </tr>\n",
       "    <tr>\n",
       "      <th>...</th>\n",
       "      <td>...</td>\n",
       "      <td>...</td>\n",
       "    </tr>\n",
       "    <tr>\n",
       "      <th>693</th>\n",
       "      <td>the faintest restless rustling ran all through...</td>\n",
       "      <td>Robert Frost</td>\n",
       "    </tr>\n",
       "    <tr>\n",
       "      <th>1762</th>\n",
       "      <td>of all who hail thy presence as the morning</td>\n",
       "      <td>Edgar Allan Poe</td>\n",
       "    </tr>\n",
       "    <tr>\n",
       "      <th>1501</th>\n",
       "      <td>cant you and i get to the root of it</td>\n",
       "      <td>Robert Frost</td>\n",
       "    </tr>\n",
       "    <tr>\n",
       "      <th>1702</th>\n",
       "      <td>plumes till they trailed in the dust</td>\n",
       "      <td>Edgar Allan Poe</td>\n",
       "    </tr>\n",
       "    <tr>\n",
       "      <th>968</th>\n",
       "      <td>or i cant give myself to hear the voices</td>\n",
       "      <td>Robert Frost</td>\n",
       "    </tr>\n",
       "  </tbody>\n",
       "</table>\n",
       "<p>1507 rows × 2 columns</p>\n",
       "</div>"
      ],
      "text/plain": [
       "                                                   text           labels\n",
       "1546        john threw the door wide but he didnt enter     Robert Frost\n",
       "302                 that as a witch id often milk a bat     Robert Frost\n",
       "2340               along the ramparts plumed and pallid  Edgar Allan Poe\n",
       "1178          drink and be whole again beyond confusion     Robert Frost\n",
       "140                  one lizard at the end of every ray     Robert Frost\n",
       "...                                                 ...              ...\n",
       "693   the faintest restless rustling ran all through...     Robert Frost\n",
       "1762        of all who hail thy presence as the morning  Edgar Allan Poe\n",
       "1501               cant you and i get to the root of it     Robert Frost\n",
       "1702              plumes till they trailed in the dust   Edgar Allan Poe\n",
       "968            or i cant give myself to hear the voices     Robert Frost\n",
       "\n",
       "[1507 rows x 2 columns]"
      ]
     },
     "execution_count": 21,
     "metadata": {},
     "output_type": "execute_result"
    }
   ],
   "source": [
    "X_train"
   ]
  },
  {
   "attachments": {},
   "cell_type": "markdown",
   "metadata": {},
   "source": [
    "### Mapping unique words (Training set) to index and frequency counter"
   ]
  },
  {
   "cell_type": "code",
   "execution_count": 22,
   "metadata": {},
   "outputs": [
    {
     "data": {
      "text/plain": [
       "2413"
      ]
     },
     "execution_count": 22,
     "metadata": {},
     "output_type": "execute_result"
    }
   ],
   "source": [
    "index = 0\n",
    "vocab = {}\n",
    "vocab_freq = defaultdict(int)\n",
    "\n",
    "for sentc in X_train['text']:\n",
    "    words = sentc.split()\n",
    "    for word in words:\n",
    "        vocab_freq[word]+=1\n",
    "        if word not in vocab.keys():\n",
    "            vocab[word] = index\n",
    "            index+=1\n",
    "len(vocab)"
   ]
  },
  {
   "cell_type": "code",
   "execution_count": 23,
   "metadata": {},
   "outputs": [],
   "source": [
    "total_states = len(vocab)"
   ]
  },
  {
   "cell_type": "code",
   "execution_count": 24,
   "metadata": {},
   "outputs": [
    {
     "data": {
      "text/plain": [
       "10947"
      ]
     },
     "execution_count": 24,
     "metadata": {},
     "output_type": "execute_result"
    }
   ],
   "source": [
    "total_words = np.sum(list(vocab_freq.values()))\n",
    "total_words"
   ]
  },
  {
   "attachments": {},
   "cell_type": "markdown",
   "metadata": {},
   "source": [
    "## Creating State transition matrix for both poets and initialisation state distribution"
   ]
  },
  {
   "cell_type": "code",
   "execution_count": 25,
   "metadata": {},
   "outputs": [],
   "source": [
    "matrix_robert = np.zeros((total_states,total_states))\n",
    "matrix_edgar = np.zeros((total_states,total_states))\n",
    "\n",
    "pi_robert_frost = np.zeros(total_states)\n",
    "pi_edgar = np.zeros(total_states)"
   ]
  },
  {
   "attachments": {},
   "cell_type": "markdown",
   "metadata": {},
   "source": [
    "### Function to fill state transition matrix and initial state distribution"
   ]
  },
  {
   "cell_type": "code",
   "execution_count": 26,
   "metadata": {},
   "outputs": [
    {
     "data": {
      "text/plain": [
       "['Robert Frost', 'Edgar Allan Poe']"
      ]
     },
     "execution_count": 26,
     "metadata": {},
     "output_type": "execute_result"
    }
   ],
   "source": [
    "list(X_train['labels'].unique())"
   ]
  },
  {
   "cell_type": "code",
   "execution_count": 27,
   "metadata": {},
   "outputs": [],
   "source": [
    "def filler(dataframe : pd.DataFrame,A,pi,category : str):\n",
    "    \n",
    "    for text in dataframe.groupby('labels').get_group(category)['text']:\n",
    "        \n",
    "        words = text.split()\n",
    "        current = words[0]\n",
    "        pi[vocab[current]]+=1\n",
    "        \n",
    "        for index in range(1,len(words)):\n",
    "            A[vocab[current]][vocab[words[index]]]+=1\n",
    "            current = words[index]\n",
    "    "
   ]
  },
  {
   "attachments": {},
   "cell_type": "markdown",
   "metadata": {},
   "source": [
    "### Initial State Distribution"
   ]
  },
  {
   "cell_type": "code",
   "execution_count": 28,
   "metadata": {},
   "outputs": [],
   "source": [
    "# variables necessary for probability Smoothing\n",
    "epsilon = 0.001\n",
    "sequence_len = len(X_train['text'])"
   ]
  },
  {
   "cell_type": "code",
   "execution_count": 29,
   "metadata": {},
   "outputs": [],
   "source": [
    "filler(X_train,matrix_robert,pi_robert_frost,'Robert Frost')\n",
    "filler(X_train,matrix_edgar,pi_edgar,'Edgar Allan Poe')"
   ]
  },
  {
   "attachments": {},
   "cell_type": "markdown",
   "metadata": {},
   "source": [
    "### Probability Smoothing and applying log probability to inital state distribution"
   ]
  },
  {
   "cell_type": "code",
   "execution_count": 30,
   "metadata": {},
   "outputs": [],
   "source": [
    "pi_robert_frost = pi_robert_frost + epsilon\n",
    "pi_robert_frost = np.log10(pi_robert_frost/(sequence_len + epsilon*total_states))"
   ]
  },
  {
   "cell_type": "code",
   "execution_count": 31,
   "metadata": {},
   "outputs": [],
   "source": [
    "pi_edgar = pi_edgar + epsilon\n",
    "pi_edgar = np.log10(pi_edgar/(sequence_len + epsilon*total_states))"
   ]
  },
  {
   "cell_type": "code",
   "execution_count": 32,
   "metadata": {},
   "outputs": [
    {
     "data": {
      "text/plain": [
       "array([-2.877561  , -6.17880809, -1.4153726 , -6.17880809, -6.17880809,\n",
       "       -1.61059462, -1.76381803, -6.17880809, -6.17880809, -1.83636567])"
      ]
     },
     "execution_count": 32,
     "metadata": {},
     "output_type": "execute_result"
    }
   ],
   "source": [
    "pi_robert_frost[:10]"
   ]
  },
  {
   "cell_type": "code",
   "execution_count": 33,
   "metadata": {},
   "outputs": [
    {
     "data": {
      "text/plain": [
       "array([-6.17880809, -6.17880809, -1.67364454, -6.17880809, -6.17880809,\n",
       "       -2.09959065, -6.17880809, -6.17880809, -6.17880809, -1.94833362])"
      ]
     },
     "execution_count": 33,
     "metadata": {},
     "output_type": "execute_result"
    }
   ],
   "source": [
    "pi_edgar[:10]"
   ]
  },
  {
   "attachments": {},
   "cell_type": "markdown",
   "metadata": {},
   "source": [
    "### State Transition Matrix"
   ]
  },
  {
   "cell_type": "code",
   "execution_count": 34,
   "metadata": {},
   "outputs": [
    {
     "data": {
      "text/plain": [
       "2048"
      ]
     },
     "execution_count": 34,
     "metadata": {},
     "output_type": "execute_result"
    }
   ],
   "source": [
    "np.sum(matrix_edgar>0)"
   ]
  },
  {
   "cell_type": "code",
   "execution_count": 35,
   "metadata": {},
   "outputs": [
    {
     "data": {
      "text/plain": [
       "5226"
      ]
     },
     "execution_count": 35,
     "metadata": {},
     "output_type": "execute_result"
    }
   ],
   "source": [
    "np.sum(matrix_robert>0)"
   ]
  },
  {
   "attachments": {},
   "cell_type": "markdown",
   "metadata": {},
   "source": [
    "### Probability Smoothing and applying log probability to State Transition matrix"
   ]
  },
  {
   "cell_type": "code",
   "execution_count": 36,
   "metadata": {},
   "outputs": [
    {
     "data": {
      "text/plain": [
       "array([[-3.94576392, -0.94532985, -3.94576392, ..., -3.94576392,\n",
       "        -3.94576392, -3.94576392],\n",
       "       [-3.76537048, -3.76537048, -0.7649364 , ..., -3.76537048,\n",
       "        -3.76537048, -3.76537048],\n",
       "       [-5.60295588, -5.60295588, -5.60295588, ..., -5.60295588,\n",
       "        -2.60252181, -5.60295588],\n",
       "       ...,\n",
       "       [-3.68358732, -3.68358732, -3.68358732, ..., -3.68358732,\n",
       "        -3.68358732, -3.68358732],\n",
       "       [-3.76537048, -3.76537048, -3.76537048, ..., -3.76537048,\n",
       "        -3.76537048, -3.76537048],\n",
       "       [-3.68358732, -3.68358732, -3.68358732, ..., -3.68358732,\n",
       "        -3.68358732, -3.68358732]])"
      ]
     },
     "execution_count": 36,
     "metadata": {},
     "output_type": "execute_result"
    }
   ],
   "source": [
    "matrix_robert  = matrix_robert + epsilon\n",
    "matrix_robert = matrix_robert/(matrix_robert.sum(axis=1,keepdims=True) + epsilon*total_states)\n",
    "matrix_robert = np.log10(matrix_robert)\n",
    "matrix_robert"
   ]
  },
  {
   "cell_type": "code",
   "execution_count": 37,
   "metadata": {},
   "outputs": [
    {
     "data": {
      "text/plain": [
       "array([[-3.68358732, -3.68358732, -3.68358732, ..., -3.68358732,\n",
       "        -3.68358732, -3.68358732],\n",
       "       [-3.68358732, -3.68358732, -3.68358732, ..., -3.68358732,\n",
       "        -3.68358732, -3.68358732],\n",
       "       [-5.37442938, -5.37442938, -5.37442938, ..., -5.37442938,\n",
       "        -5.37442938, -5.37442938],\n",
       "       ...,\n",
       "       [-3.76537048, -3.76537048, -3.76537048, ..., -3.76537048,\n",
       "        -3.76537048, -3.76537048],\n",
       "       [-3.68358732, -3.68358732, -3.68358732, ..., -3.68358732,\n",
       "        -3.68358732, -3.68358732],\n",
       "       [-3.76537048, -3.76537048, -3.76537048, ..., -3.76537048,\n",
       "        -3.76537048, -3.76537048]])"
      ]
     },
     "execution_count": 37,
     "metadata": {},
     "output_type": "execute_result"
    }
   ],
   "source": [
    "matrix_edgar = matrix_edgar + epsilon\n",
    "matrix_edgar = matrix_edgar/(matrix_edgar.sum(axis=1,keepdims=True) + epsilon*total_states)\n",
    "matrix_edgar = np.log10(matrix_edgar)\n",
    "matrix_edgar"
   ]
  },
  {
   "attachments": {},
   "cell_type": "markdown",
   "metadata": {},
   "source": [
    "### Calculating Priors for the classes present"
   ]
  },
  {
   "cell_type": "code",
   "execution_count": 38,
   "metadata": {},
   "outputs": [
    {
     "data": {
      "text/plain": [
       "-0.1785477640886495"
      ]
     },
     "execution_count": 38,
     "metadata": {},
     "output_type": "execute_result"
    }
   ],
   "source": [
    "priors_robert = len(X_train.loc[X_train['labels']=='Robert Frost'])/len(X_train['labels'])\n",
    "priors_robert = np.log10(priors_robert)\n",
    "priors_robert"
   ]
  },
  {
   "cell_type": "code",
   "execution_count": 39,
   "metadata": {},
   "outputs": [
    {
     "data": {
      "text/plain": [
       "-0.4722495400307125"
      ]
     },
     "execution_count": 39,
     "metadata": {},
     "output_type": "execute_result"
    }
   ],
   "source": [
    "priors_edgar = len(X_train.loc[X_train['labels']=='Edgar Allan Poe'])/len(X_train['labels'])\n",
    "priors_edgar = np.log10(priors_edgar)\n",
    "priors_edgar"
   ]
  },
  {
   "attachments": {},
   "cell_type": "markdown",
   "metadata": {},
   "source": [
    "### Function to predict X_test labels"
   ]
  },
  {
   "cell_type": "code",
   "execution_count": 40,
   "metadata": {},
   "outputs": [],
   "source": [
    "def evaluate(sentc : str)->str:\n",
    "    \n",
    "    words = sentc.split()\n",
    "    \n",
    "    eval_robert_frost = priors_robert\n",
    "    eval_edgar = priors_edgar\n",
    "    \n",
    "    # checking if the word is present in the vocabulary or not\n",
    "    if words[0] in vocab.keys():\n",
    "        eval_robert_frost+=pi_robert_frost[vocab[words[0]]]\n",
    "        eval_edgar+=pi_edgar[vocab[words[0]]]\n",
    "    else :\n",
    "        eval_robert_frost+=np.log10(epsilon/(sequence_len + epsilon*total_states))\n",
    "        eval_edgar+=np.log10(epsilon/(sequence_len + epsilon*total_states))\n",
    "    \n",
    "    \n",
    "    for idx in range(1,len(words)):\n",
    "        \n",
    "        # checking if the word is present in the vocabulary or not\n",
    "        if (words[idx-1] not in vocab.keys()) or (words[idx] not in vocab.keys()):\n",
    "            eval_robert_frost+=np.log10(1/total_states)\n",
    "            eval_edgar+=np.log10(1/total_states)\n",
    "        else:\n",
    "            eval_robert_frost+=matrix_robert[vocab[words[idx-1]]][vocab[words[idx]]]\n",
    "            eval_edgar+=matrix_edgar[vocab[words[idx-1]]][vocab[words[idx]]]\n",
    "\n",
    "    if eval_robert_frost>=eval_edgar:\n",
    "        return 'Robert Frost'\n",
    "    \n",
    "    return 'Edgar Allan Poe'\n",
    "    "
   ]
  },
  {
   "cell_type": "code",
   "execution_count": 41,
   "metadata": {},
   "outputs": [],
   "source": [
    "X_test['y pred'] = X_test['text'].apply(evaluate)"
   ]
  },
  {
   "cell_type": "code",
   "execution_count": 42,
   "metadata": {},
   "outputs": [
    {
     "data": {
      "text/html": [
       "<div>\n",
       "<style scoped>\n",
       "    .dataframe tbody tr th:only-of-type {\n",
       "        vertical-align: middle;\n",
       "    }\n",
       "\n",
       "    .dataframe tbody tr th {\n",
       "        vertical-align: top;\n",
       "    }\n",
       "\n",
       "    .dataframe thead th {\n",
       "        text-align: right;\n",
       "    }\n",
       "</style>\n",
       "<table border=\"1\" class=\"dataframe\">\n",
       "  <thead>\n",
       "    <tr style=\"text-align: right;\">\n",
       "      <th></th>\n",
       "      <th>text</th>\n",
       "      <th>labels</th>\n",
       "      <th>y pred</th>\n",
       "    </tr>\n",
       "  </thead>\n",
       "  <tbody>\n",
       "    <tr>\n",
       "      <th>408</th>\n",
       "      <td>as long ago as that</td>\n",
       "      <td>Robert Frost</td>\n",
       "      <td>Edgar Allan Poe</td>\n",
       "    </tr>\n",
       "    <tr>\n",
       "      <th>1251</th>\n",
       "      <td>then cane one knock</td>\n",
       "      <td>Robert Frost</td>\n",
       "      <td>Edgar Allan Poe</td>\n",
       "    </tr>\n",
       "    <tr>\n",
       "      <th>144</th>\n",
       "      <td>when the heat slowly hazes and the sun</td>\n",
       "      <td>Robert Frost</td>\n",
       "      <td>Robert Frost</td>\n",
       "    </tr>\n",
       "    <tr>\n",
       "      <th>807</th>\n",
       "      <td>i judged that such a crystal chill</td>\n",
       "      <td>Robert Frost</td>\n",
       "      <td>Robert Frost</td>\n",
       "    </tr>\n",
       "    <tr>\n",
       "      <th>342</th>\n",
       "      <td>like no she aint come back from kiting yet</td>\n",
       "      <td>Robert Frost</td>\n",
       "      <td>Robert Frost</td>\n",
       "    </tr>\n",
       "    <tr>\n",
       "      <th>...</th>\n",
       "      <td>...</td>\n",
       "      <td>...</td>\n",
       "      <td>...</td>\n",
       "    </tr>\n",
       "    <tr>\n",
       "      <th>200</th>\n",
       "      <td>according as he feared to risk</td>\n",
       "      <td>Robert Frost</td>\n",
       "      <td>Edgar Allan Poe</td>\n",
       "    </tr>\n",
       "    <tr>\n",
       "      <th>1832</th>\n",
       "      <td>in the fever of a minute</td>\n",
       "      <td>Edgar Allan Poe</td>\n",
       "      <td>Edgar Allan Poe</td>\n",
       "    </tr>\n",
       "    <tr>\n",
       "      <th>1280</th>\n",
       "      <td>beyond which god is</td>\n",
       "      <td>Robert Frost</td>\n",
       "      <td>Robert Frost</td>\n",
       "    </tr>\n",
       "    <tr>\n",
       "      <th>1273</th>\n",
       "      <td>and spoke of the lettered</td>\n",
       "      <td>Robert Frost</td>\n",
       "      <td>Robert Frost</td>\n",
       "    </tr>\n",
       "    <tr>\n",
       "      <th>1782</th>\n",
       "      <td>from its present pathway part not</td>\n",
       "      <td>Edgar Allan Poe</td>\n",
       "      <td>Robert Frost</td>\n",
       "    </tr>\n",
       "  </tbody>\n",
       "</table>\n",
       "<p>647 rows × 3 columns</p>\n",
       "</div>"
      ],
      "text/plain": [
       "                                            text           labels  \\\n",
       "408                          as long ago as that     Robert Frost   \n",
       "1251                         then cane one knock     Robert Frost   \n",
       "144       when the heat slowly hazes and the sun     Robert Frost   \n",
       "807           i judged that such a crystal chill     Robert Frost   \n",
       "342   like no she aint come back from kiting yet     Robert Frost   \n",
       "...                                          ...              ...   \n",
       "200               according as he feared to risk     Robert Frost   \n",
       "1832                    in the fever of a minute  Edgar Allan Poe   \n",
       "1280                         beyond which god is     Robert Frost   \n",
       "1273                   and spoke of the lettered     Robert Frost   \n",
       "1782           from its present pathway part not  Edgar Allan Poe   \n",
       "\n",
       "               y pred  \n",
       "408   Edgar Allan Poe  \n",
       "1251  Edgar Allan Poe  \n",
       "144      Robert Frost  \n",
       "807      Robert Frost  \n",
       "342      Robert Frost  \n",
       "...               ...  \n",
       "200   Edgar Allan Poe  \n",
       "1832  Edgar Allan Poe  \n",
       "1280     Robert Frost  \n",
       "1273     Robert Frost  \n",
       "1782     Robert Frost  \n",
       "\n",
       "[647 rows x 3 columns]"
      ]
     },
     "execution_count": 42,
     "metadata": {},
     "output_type": "execute_result"
    }
   ],
   "source": [
    "X_test"
   ]
  },
  {
   "attachments": {},
   "cell_type": "markdown",
   "metadata": {},
   "source": [
    "### Checking the performace and F1 score"
   ]
  },
  {
   "cell_type": "code",
   "execution_count": 43,
   "metadata": {},
   "outputs": [
    {
     "name": "stdout",
     "output_type": "stream",
     "text": [
      "                 precision    recall  f1-score   support\n",
      "\n",
      "Edgar Allan Poe       0.65      0.64      0.65       210\n",
      "   Robert Frost       0.83      0.83      0.83       437\n",
      "\n",
      "       accuracy                           0.77       647\n",
      "      macro avg       0.74      0.74      0.74       647\n",
      "   weighted avg       0.77      0.77      0.77       647\n",
      "\n"
     ]
    }
   ],
   "source": [
    "print(classification_report(y_pred=X_test['y pred'],y_true=y_test))"
   ]
  },
  {
   "cell_type": "code",
   "execution_count": 44,
   "metadata": {},
   "outputs": [
    {
     "data": {
      "text/plain": [
       "<sklearn.metrics._plot.confusion_matrix.ConfusionMatrixDisplay at 0x7f907b52aac0>"
      ]
     },
     "execution_count": 44,
     "metadata": {},
     "output_type": "execute_result"
    },
    {
     "data": {
      "image/png": "[encoded data removed]",
      "text/plain": [
       "<Figure size 432x288 with 2 Axes>"
      ]
     },
     "metadata": {
      "needs_background": "light"
     },
     "output_type": "display_data"
    }
   ],
   "source": [
    "ConfusionMatrixDisplay(confusion_matrix=confusion_matrix(y_pred=X_test['y pred'],y_true=y_test),display_labels=['Edgar Allan Poe','Robert Frost']).plot()"
   ]
  }
 ],
 "metadata": {
  "kernelspec": {
   "display_name": "base",
   "language": "python",
   "name": "python3"
  },
  "language_info": {
   "codemirror_mode": {
    "name": "ipython",
    "version": 3
   },
   "file_extension": ".py",
   "mimetype": "text/x-python",
   "name": "python",
   "nbconvert_exporter": "python",
   "pygments_lexer": "ipython3",
   "version": "3.9.12"
  },
  "orig_nbformat": 4
 },
 "nbformat": 4,
 "nbformat_minor": 2
}
