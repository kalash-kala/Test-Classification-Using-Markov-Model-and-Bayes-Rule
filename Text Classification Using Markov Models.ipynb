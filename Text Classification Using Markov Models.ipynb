{
 "cells": [
  {
   "cell_type": "code",
   "execution_count": 1,
   "metadata": {},
   "outputs": [],
   "source": [
    "from collections import defaultdict\n",
    "from sklearn.model_selection import train_test_split\n",
    "from sklearn.metrics import classification_report, confusion_matrix, ConfusionMatrixDisplay\n",
    "\n",
    "\n",
    "import pandas as pd\n",
    "import numpy as np\n",
    "import seaborn as sns"
   ]
  },
  {
   "cell_type": "code",
   "execution_count": 3,
   "metadata": {},
   "outputs": [],
   "source": [
    "poems = defaultdict(list)"
   ]
  },
  {
   "cell_type": "code",
   "execution_count": 4,
   "metadata": {},
   "outputs": [],
   "source": [
    "with open('robert_frost.txt') as f:\n",
    "    poems['text'] = f.readlines()"
   ]
  },
  {
   "cell_type": "code",
   "execution_count": 5,
   "metadata": {},
   "outputs": [
    {
     "data": {
      "text/plain": [
       "1581"
      ]
     },
     "execution_count": 5,
     "metadata": {},
     "output_type": "execute_result"
    }
   ],
   "source": [
    "len(poems['text'])"
   ]
  },
  {
   "cell_type": "code",
   "execution_count": 6,
   "metadata": {},
   "outputs": [],
   "source": [
    "poems['labels'] = ['Robert Frost']*len(poems['text'])"
   ]
  },
  {
   "cell_type": "code",
   "execution_count": 7,
   "metadata": {},
   "outputs": [],
   "source": [
    "with open('edgar_allan_poe.txt') as f:\n",
    "    l = f.readlines()"
   ]
  },
  {
   "cell_type": "code",
   "execution_count": 8,
   "metadata": {},
   "outputs": [],
   "source": [
    "poems['text'] = poems['text'] + l"
   ]
  },
  {
   "cell_type": "code",
   "execution_count": 9,
   "metadata": {},
   "outputs": [],
   "source": [
    "poems['labels'] = poems['labels'] + ['Edgar Allan Poe']*len(l)"
   ]
  },
  {
   "cell_type": "code",
   "execution_count": 10,
   "metadata": {},
   "outputs": [
    {
     "data": {
      "text/html": [
       "<div>\n",
       "<style scoped>\n",
       "    .dataframe tbody tr th:only-of-type {\n",
       "        vertical-align: middle;\n",
       "    }\n",
       "\n",
       "    .dataframe tbody tr th {\n",
       "        vertical-align: top;\n",
       "    }\n",
       "\n",
       "    .dataframe thead th {\n",
       "        text-align: right;\n",
       "    }\n",
       "</style>\n",
       "<table border=\"1\" class=\"dataframe\">\n",
       "  <thead>\n",
       "    <tr style=\"text-align: right;\">\n",
       "      <th></th>\n",
       "      <th>text</th>\n",
       "      <th>labels</th>\n",
       "    </tr>\n",
       "  </thead>\n",
       "  <tbody>\n",
       "    <tr>\n",
       "      <th>0</th>\n",
       "      <td>Two roads diverged in a yellow wood,\\n</td>\n",
       "      <td>Robert Frost</td>\n",
       "    </tr>\n",
       "    <tr>\n",
       "      <th>1</th>\n",
       "      <td>And sorry I could not travel both\\n</td>\n",
       "      <td>Robert Frost</td>\n",
       "    </tr>\n",
       "    <tr>\n",
       "      <th>2</th>\n",
       "      <td>And be one traveler, long I stood\\n</td>\n",
       "      <td>Robert Frost</td>\n",
       "    </tr>\n",
       "    <tr>\n",
       "      <th>3</th>\n",
       "      <td>And looked down one as far as I could\\n</td>\n",
       "      <td>Robert Frost</td>\n",
       "    </tr>\n",
       "    <tr>\n",
       "      <th>4</th>\n",
       "      <td>To where it bent in the undergrowth; \\n</td>\n",
       "      <td>Robert Frost</td>\n",
       "    </tr>\n",
       "    <tr>\n",
       "      <th>...</th>\n",
       "      <td>...</td>\n",
       "      <td>...</td>\n",
       "    </tr>\n",
       "    <tr>\n",
       "      <th>2373</th>\n",
       "      <td>To a discordant melody;\\n</td>\n",
       "      <td>Edgar Allan Poe</td>\n",
       "    </tr>\n",
       "    <tr>\n",
       "      <th>2374</th>\n",
       "      <td>While, like a rapid ghastly river,\\n</td>\n",
       "      <td>Edgar Allan Poe</td>\n",
       "    </tr>\n",
       "    <tr>\n",
       "      <th>2375</th>\n",
       "      <td>Through the pale door,\\n</td>\n",
       "      <td>Edgar Allan Poe</td>\n",
       "    </tr>\n",
       "    <tr>\n",
       "      <th>2376</th>\n",
       "      <td>A hideous throng rush out forever,\\n</td>\n",
       "      <td>Edgar Allan Poe</td>\n",
       "    </tr>\n",
       "    <tr>\n",
       "      <th>2377</th>\n",
       "      <td>And laugh --but smile no more.</td>\n",
       "      <td>Edgar Allan Poe</td>\n",
       "    </tr>\n",
       "  </tbody>\n",
       "</table>\n",
       "<p>2378 rows × 2 columns</p>\n",
       "</div>"
      ],
      "text/plain": [
       "                                         text           labels\n",
       "0      Two roads diverged in a yellow wood,\\n     Robert Frost\n",
       "1         And sorry I could not travel both\\n     Robert Frost\n",
       "2         And be one traveler, long I stood\\n     Robert Frost\n",
       "3     And looked down one as far as I could\\n     Robert Frost\n",
       "4     To where it bent in the undergrowth; \\n     Robert Frost\n",
       "...                                       ...              ...\n",
       "2373                To a discordant melody;\\n  Edgar Allan Poe\n",
       "2374     While, like a rapid ghastly river,\\n  Edgar Allan Poe\n",
       "2375                 Through the pale door,\\n  Edgar Allan Poe\n",
       "2376     A hideous throng rush out forever,\\n  Edgar Allan Poe\n",
       "2377           And laugh --but smile no more.  Edgar Allan Poe\n",
       "\n",
       "[2378 rows x 2 columns]"
      ]
     },
     "execution_count": 10,
     "metadata": {},
     "output_type": "execute_result"
    }
   ],
   "source": [
    "poems = pd.DataFrame.from_dict(poems)\n",
    "poems"
   ]
  },
  {
   "cell_type": "code",
   "execution_count": 11,
   "metadata": {},
   "outputs": [
    {
     "data": {
      "text/plain": [
       "1"
      ]
     },
     "execution_count": 11,
     "metadata": {},
     "output_type": "execute_result"
    }
   ],
   "source": [
    "len(poems.loc[768]['text'])"
   ]
  },
  {
   "cell_type": "code",
   "execution_count": 12,
   "metadata": {},
   "outputs": [
    {
     "name": "stdout",
     "output_type": "stream",
     "text": [
      "\n",
      "\n"
     ]
    }
   ],
   "source": [
    "print(poems.loc[768]['text'])"
   ]
  },
  {
   "attachments": {},
   "cell_type": "markdown",
   "metadata": {},
   "source": [
    "### Function to remove common punctuation and lower case the sentence"
   ]
  },
  {
   "cell_type": "code",
   "execution_count": 13,
   "metadata": {},
   "outputs": [],
   "source": [
    "def remove_puctuation(df):\n",
    "    \n",
    "    df['text'] = df['text'].apply(lambda x : x.replace('\\n',''))\n",
    "    df['text'] = df['text'].apply(lambda x : x.replace(',',''))\n",
    "    df['text'] = df['text'].apply(lambda x : x.replace(';',''))\n",
    "    df['text'] = df['text'].apply(lambda x : x.replace(':',''))\n",
    "    df['text'] = df['text'].apply(lambda x : x.replace('.',''))\n",
    "    df['text'] = df['text'].apply(lambda x : x.replace('(',''))\n",
    "    df['text'] = df['text'].apply(lambda x : x.replace(')',''))\n",
    "    df['text'] = df['text'].apply(lambda x : x.replace('?',''))\n",
    "    df['text'] = df['text'].apply(lambda x : x.replace('--',''))\n",
    "    df['text'] = df['text'].apply(lambda x : x.lower())\n",
    "    \n",
    "    return df    \n"
   ]
  },
  {
   "cell_type": "code",
   "execution_count": 14,
   "metadata": {},
   "outputs": [
    {
     "data": {
      "text/html": [
       "<div>\n",
       "<style scoped>\n",
       "    .dataframe tbody tr th:only-of-type {\n",
       "        vertical-align: middle;\n",
       "    }\n",
       "\n",
       "    .dataframe tbody tr th {\n",
       "        vertical-align: top;\n",
       "    }\n",
       "\n",
       "    .dataframe thead th {\n",
       "        text-align: right;\n",
       "    }\n",
       "</style>\n",
       "<table border=\"1\" class=\"dataframe\">\n",
       "  <thead>\n",
       "    <tr style=\"text-align: right;\">\n",
       "      <th></th>\n",
       "      <th>text</th>\n",
       "      <th>labels</th>\n",
       "    </tr>\n",
       "  </thead>\n",
       "  <tbody>\n",
       "    <tr>\n",
       "      <th>0</th>\n",
       "      <td>two roads diverged in a yellow wood</td>\n",
       "      <td>Robert Frost</td>\n",
       "    </tr>\n",
       "    <tr>\n",
       "      <th>1</th>\n",
       "      <td>and sorry i could not travel both</td>\n",
       "      <td>Robert Frost</td>\n",
       "    </tr>\n",
       "    <tr>\n",
       "      <th>2</th>\n",
       "      <td>and be one traveler long i stood</td>\n",
       "      <td>Robert Frost</td>\n",
       "    </tr>\n",
       "    <tr>\n",
       "      <th>3</th>\n",
       "      <td>and looked down one as far as i could</td>\n",
       "      <td>Robert Frost</td>\n",
       "    </tr>\n",
       "    <tr>\n",
       "      <th>4</th>\n",
       "      <td>to where it bent in the undergrowth</td>\n",
       "      <td>Robert Frost</td>\n",
       "    </tr>\n",
       "    <tr>\n",
       "      <th>...</th>\n",
       "      <td>...</td>\n",
       "      <td>...</td>\n",
       "    </tr>\n",
       "    <tr>\n",
       "      <th>2373</th>\n",
       "      <td>to a discordant melody</td>\n",
       "      <td>Edgar Allan Poe</td>\n",
       "    </tr>\n",
       "    <tr>\n",
       "      <th>2374</th>\n",
       "      <td>while like a rapid ghastly river</td>\n",
       "      <td>Edgar Allan Poe</td>\n",
       "    </tr>\n",
       "    <tr>\n",
       "      <th>2375</th>\n",
       "      <td>through the pale door</td>\n",
       "      <td>Edgar Allan Poe</td>\n",
       "    </tr>\n",
       "    <tr>\n",
       "      <th>2376</th>\n",
       "      <td>a hideous throng rush out forever</td>\n",
       "      <td>Edgar Allan Poe</td>\n",
       "    </tr>\n",
       "    <tr>\n",
       "      <th>2377</th>\n",
       "      <td>and laugh but smile no more</td>\n",
       "      <td>Edgar Allan Poe</td>\n",
       "    </tr>\n",
       "  </tbody>\n",
       "</table>\n",
       "<p>2378 rows × 2 columns</p>\n",
       "</div>"
      ],
      "text/plain": [
       "                                       text           labels\n",
       "0       two roads diverged in a yellow wood     Robert Frost\n",
       "1         and sorry i could not travel both     Robert Frost\n",
       "2          and be one traveler long i stood     Robert Frost\n",
       "3     and looked down one as far as i could     Robert Frost\n",
       "4      to where it bent in the undergrowth      Robert Frost\n",
       "...                                     ...              ...\n",
       "2373                 to a discordant melody  Edgar Allan Poe\n",
       "2374       while like a rapid ghastly river  Edgar Allan Poe\n",
       "2375                  through the pale door  Edgar Allan Poe\n",
       "2376      a hideous throng rush out forever  Edgar Allan Poe\n",
       "2377            and laugh but smile no more  Edgar Allan Poe\n",
       "\n",
       "[2378 rows x 2 columns]"
      ]
     },
     "execution_count": 14,
     "metadata": {},
     "output_type": "execute_result"
    }
   ],
   "source": [
    "poems = remove_puctuation(poems)\n",
    "poems"
   ]
  },
  {
   "cell_type": "code",
   "execution_count": 15,
   "metadata": {},
   "outputs": [
    {
     "data": {
      "text/plain": [
       "Robert Frost       1581\n",
       "Edgar Allan Poe     797\n",
       "Name: labels, dtype: int64"
      ]
     },
     "execution_count": 15,
     "metadata": {},
     "output_type": "execute_result"
    }
   ],
   "source": [
    "poems['labels'].value_counts()"
   ]
  },
  {
   "cell_type": "code",
   "execution_count": 16,
   "metadata": {},
   "outputs": [
    {
     "data": {
      "text/plain": [
       "<AxesSubplot:xlabel='labels', ylabel='count'>"
      ]
     },
     "execution_count": 16,
     "metadata": {},
     "output_type": "execute_result"
    },
    {
     "data": {
      "image/png": "[encoded data removed]",
      "text/plain": [
       "<Figure size 432x288 with 1 Axes>"
      ]
     },
     "metadata": {
      "needs_background": "light"
     },
     "output_type": "display_data"
    }
   ],
   "source": [
    "sns.countplot(data=poems,x='labels')"
   ]
  },
  {
   "cell_type": "code",
   "execution_count": 17,
   "metadata": {},
   "outputs": [],
   "source": [
    "y = poems['labels']"
   ]
  },
  {
   "cell_type": "code",
   "execution_count": 18,
   "metadata": {},
   "outputs": [],
   "source": [
    "X_train, X_test, y_train, y_test = train_test_split(poems, y, test_size=0.3, random_state=101)"
   ]
  },
  {
   "cell_type": "code",
   "execution_count": 19,
   "metadata": {},
   "outputs": [
    {
     "data": {
      "text/plain": [
       "Robert Frost       1101\n",
       "Edgar Allan Poe     563\n",
       "Name: labels, dtype: int64"
      ]
     },
     "execution_count": 19,
     "metadata": {},
     "output_type": "execute_result"
    }
   ],
   "source": [
    "y_train.value_counts()"
   ]
  },
  {
   "cell_type": "code",
   "execution_count": 20,
   "metadata": {},
   "outputs": [
    {
     "data": {
      "text/html": [
       "<div>\n",
       "<style scoped>\n",
       "    .dataframe tbody tr th:only-of-type {\n",
       "        vertical-align: middle;\n",
       "    }\n",
       "\n",
       "    .dataframe tbody tr th {\n",
       "        vertical-align: top;\n",
       "    }\n",
       "\n",
       "    .dataframe thead th {\n",
       "        text-align: right;\n",
       "    }\n",
       "</style>\n",
       "<table border=\"1\" class=\"dataframe\">\n",
       "  <thead>\n",
       "    <tr style=\"text-align: right;\">\n",
       "      <th></th>\n",
       "      <th>text</th>\n",
       "      <th>labels</th>\n",
       "    </tr>\n",
       "  </thead>\n",
       "  <tbody>\n",
       "    <tr>\n",
       "      <th>110</th>\n",
       "      <td>as often as i've seen it done before</td>\n",
       "      <td>Robert Frost</td>\n",
       "    </tr>\n",
       "    <tr>\n",
       "      <th>1026</th>\n",
       "      <td>'i know and it was raining</td>\n",
       "      <td>Robert Frost</td>\n",
       "    </tr>\n",
       "    <tr>\n",
       "      <th>2335</th>\n",
       "      <td>on its roof did float and flow</td>\n",
       "      <td>Edgar Allan Poe</td>\n",
       "    </tr>\n",
       "    <tr>\n",
       "      <th>1083</th>\n",
       "      <td>disturbed the slumbering village street</td>\n",
       "      <td>Robert Frost</td>\n",
       "    </tr>\n",
       "    <tr>\n",
       "      <th>1336</th>\n",
       "      <td>lord if i were to dream of everyone</td>\n",
       "      <td>Robert Frost</td>\n",
       "    </tr>\n",
       "    <tr>\n",
       "      <th>...</th>\n",
       "      <td>...</td>\n",
       "      <td>...</td>\n",
       "    </tr>\n",
       "    <tr>\n",
       "      <th>599</th>\n",
       "      <td>unless it be</td>\n",
       "      <td>Robert Frost</td>\n",
       "    </tr>\n",
       "    <tr>\n",
       "      <th>1599</th>\n",
       "      <td>but light from out the lurid sea</td>\n",
       "      <td>Edgar Allan Poe</td>\n",
       "    </tr>\n",
       "    <tr>\n",
       "      <th>1361</th>\n",
       "      <td>estelle's to take me when she's settled down</td>\n",
       "      <td>Robert Frost</td>\n",
       "    </tr>\n",
       "    <tr>\n",
       "      <th>1547</th>\n",
       "      <td>'how are you neighbour just the man i'm after</td>\n",
       "      <td>Robert Frost</td>\n",
       "    </tr>\n",
       "    <tr>\n",
       "      <th>863</th>\n",
       "      <td>'yes stark and you'</td>\n",
       "      <td>Robert Frost</td>\n",
       "    </tr>\n",
       "  </tbody>\n",
       "</table>\n",
       "<p>1664 rows × 2 columns</p>\n",
       "</div>"
      ],
      "text/plain": [
       "                                                text           labels\n",
       "110             as often as i've seen it done before     Robert Frost\n",
       "1026                     'i know and it was raining      Robert Frost\n",
       "2335                  on its roof did float and flow  Edgar Allan Poe\n",
       "1083         disturbed the slumbering village street     Robert Frost\n",
       "1336            lord if i were to dream of everyone      Robert Frost\n",
       "...                                              ...              ...\n",
       "599                                     unless it be     Robert Frost\n",
       "1599                but light from out the lurid sea  Edgar Allan Poe\n",
       "1361   estelle's to take me when she's settled down      Robert Frost\n",
       "1547  'how are you neighbour just the man i'm after      Robert Frost\n",
       "863                             'yes stark and you'      Robert Frost\n",
       "\n",
       "[1664 rows x 2 columns]"
      ]
     },
     "execution_count": 20,
     "metadata": {},
     "output_type": "execute_result"
    }
   ],
   "source": [
    "X_train"
   ]
  },
  {
   "attachments": {},
   "cell_type": "markdown",
   "metadata": {},
   "source": [
    "### Mapping unique words to index and frequency counter"
   ]
  },
  {
   "cell_type": "code",
   "execution_count": 21,
   "metadata": {},
   "outputs": [
    {
     "name": "stdout",
     "output_type": "stream",
     "text": [
      "Edgar Allan Poe\n",
      "Robert Frost\n"
     ]
    }
   ],
   "source": [
    "poet_groupby = X_train.groupby(by='labels')\n",
    "for idx, df in poet_groupby:\n",
    "    print(idx)"
   ]
  },
  {
   "cell_type": "code",
   "execution_count": 22,
   "metadata": {},
   "outputs": [
    {
     "data": {
      "text/html": [
       "<div>\n",
       "<style scoped>\n",
       "    .dataframe tbody tr th:only-of-type {\n",
       "        vertical-align: middle;\n",
       "    }\n",
       "\n",
       "    .dataframe tbody tr th {\n",
       "        vertical-align: top;\n",
       "    }\n",
       "\n",
       "    .dataframe thead th {\n",
       "        text-align: right;\n",
       "    }\n",
       "</style>\n",
       "<table border=\"1\" class=\"dataframe\">\n",
       "  <thead>\n",
       "    <tr style=\"text-align: right;\">\n",
       "      <th></th>\n",
       "      <th>text</th>\n",
       "      <th>labels</th>\n",
       "    </tr>\n",
       "  </thead>\n",
       "  <tbody>\n",
       "    <tr>\n",
       "      <th>2335</th>\n",
       "      <td>on its roof did float and flow</td>\n",
       "      <td>Edgar Allan Poe</td>\n",
       "    </tr>\n",
       "    <tr>\n",
       "      <th>1802</th>\n",
       "      <td>of all who on despair's unhallowed bed</td>\n",
       "      <td>Edgar Allan Poe</td>\n",
       "    </tr>\n",
       "    <tr>\n",
       "      <th>1797</th>\n",
       "      <td>the blotting utterly from out high heaven</td>\n",
       "      <td>Edgar Allan Poe</td>\n",
       "    </tr>\n",
       "    <tr>\n",
       "      <th>1911</th>\n",
       "      <td>the unembodied essence and no more</td>\n",
       "      <td>Edgar Allan Poe</td>\n",
       "    </tr>\n",
       "    <tr>\n",
       "      <th>1973</th>\n",
       "      <td>with storms- but where meanwhile</td>\n",
       "      <td>Edgar Allan Poe</td>\n",
       "    </tr>\n",
       "    <tr>\n",
       "      <th>...</th>\n",
       "      <td>...</td>\n",
       "      <td>...</td>\n",
       "    </tr>\n",
       "    <tr>\n",
       "      <th>1728</th>\n",
       "      <td>then my heart it grew ashen and sober</td>\n",
       "      <td>Edgar Allan Poe</td>\n",
       "    </tr>\n",
       "    <tr>\n",
       "      <th>2364</th>\n",
       "      <td>shall dawn upon him desolate!</td>\n",
       "      <td>Edgar Allan Poe</td>\n",
       "    </tr>\n",
       "    <tr>\n",
       "      <th>1668</th>\n",
       "      <td>remembered not the dank tarn of auber</td>\n",
       "      <td>Edgar Allan Poe</td>\n",
       "    </tr>\n",
       "    <tr>\n",
       "      <th>2045</th>\n",
       "      <td>venuses unextinguished by the sun!</td>\n",
       "      <td>Edgar Allan Poe</td>\n",
       "    </tr>\n",
       "    <tr>\n",
       "      <th>1599</th>\n",
       "      <td>but light from out the lurid sea</td>\n",
       "      <td>Edgar Allan Poe</td>\n",
       "    </tr>\n",
       "  </tbody>\n",
       "</table>\n",
       "<p>563 rows × 2 columns</p>\n",
       "</div>"
      ],
      "text/plain": [
       "                                           text           labels\n",
       "2335             on its roof did float and flow  Edgar Allan Poe\n",
       "1802     of all who on despair's unhallowed bed  Edgar Allan Poe\n",
       "1797  the blotting utterly from out high heaven  Edgar Allan Poe\n",
       "1911         the unembodied essence and no more  Edgar Allan Poe\n",
       "1973           with storms- but where meanwhile  Edgar Allan Poe\n",
       "...                                         ...              ...\n",
       "1728      then my heart it grew ashen and sober  Edgar Allan Poe\n",
       "2364              shall dawn upon him desolate!  Edgar Allan Poe\n",
       "1668      remembered not the dank tarn of auber  Edgar Allan Poe\n",
       "2045         venuses unextinguished by the sun!  Edgar Allan Poe\n",
       "1599           but light from out the lurid sea  Edgar Allan Poe\n",
       "\n",
       "[563 rows x 2 columns]"
      ]
     },
     "execution_count": 22,
     "metadata": {},
     "output_type": "execute_result"
    }
   ],
   "source": [
    "poet_groupby.get_group('Edgar Allan Poe')"
   ]
  },
  {
   "cell_type": "code",
   "execution_count": 23,
   "metadata": {},
   "outputs": [
    {
     "data": {
      "text/plain": [
       "1896"
      ]
     },
     "execution_count": 23,
     "metadata": {},
     "output_type": "execute_result"
    }
   ],
   "source": [
    "words_robert_frost = {}\n",
    "words_robert_frost_freq = defaultdict(int)\n",
    "\n",
    "idx = 0\n",
    "\n",
    "for sentc in poet_groupby.get_group('Robert Frost')['text']:\n",
    "    words = sentc.split()\n",
    "    for word in words:\n",
    "        words_robert_frost_freq[word]+=1\n",
    "        if word not in words_robert_frost.keys():\n",
    "            words_robert_frost[word] = idx\n",
    "            idx+=1\n",
    "\n",
    "len(words_robert_frost)"
   ]
  },
  {
   "cell_type": "code",
   "execution_count": 24,
   "metadata": {},
   "outputs": [
    {
     "data": {
      "text/plain": [
       "1172"
      ]
     },
     "execution_count": 24,
     "metadata": {},
     "output_type": "execute_result"
    }
   ],
   "source": [
    "words_edgar = {}\n",
    "words_edgar_freq = defaultdict(int)\n",
    "\n",
    "idx = 0\n",
    "\n",
    "for sentc in poet_groupby.get_group('Edgar Allan Poe')['text']:\n",
    "    words = sentc.split()\n",
    "    for word in words:\n",
    "        words_edgar_freq[word]+=1\n",
    "        if word not in words_edgar.keys():\n",
    "            words_edgar[word] = idx\n",
    "            idx+=1\n",
    "\n",
    "len(words_edgar)"
   ]
  },
  {
   "cell_type": "code",
   "execution_count": 25,
   "metadata": {},
   "outputs": [],
   "source": [
    "states_robert_frost = len(words_robert_frost)\n",
    "states_edgar = len(words_edgar)"
   ]
  },
  {
   "attachments": {},
   "cell_type": "markdown",
   "metadata": {},
   "source": [
    "## Creating State transition matrix for both poets and initialisation state distribution"
   ]
  },
  {
   "cell_type": "code",
   "execution_count": 26,
   "metadata": {},
   "outputs": [],
   "source": [
    "matrix_robert = [[0]*len(words_robert_frost)]*len(words_robert_frost)\n",
    "matrix_edgar = [[0]*len(words_edgar)]*len(words_edgar)"
   ]
  },
  {
   "cell_type": "code",
   "execution_count": 27,
   "metadata": {},
   "outputs": [
    {
     "data": {
      "text/plain": [
       "7535"
      ]
     },
     "execution_count": 27,
     "metadata": {},
     "output_type": "execute_result"
    }
   ],
   "source": [
    "total_words_robert_frost = np.sum(list(words_robert_frost_freq.values()))\n",
    "total_words_robert_frost"
   ]
  },
  {
   "cell_type": "code",
   "execution_count": 28,
   "metadata": {},
   "outputs": [
    {
     "data": {
      "text/plain": [
       "3421"
      ]
     },
     "execution_count": 28,
     "metadata": {},
     "output_type": "execute_result"
    }
   ],
   "source": [
    "total_words_edgar = np.sum(list(words_edgar_freq.values()))\n",
    "total_words_edgar"
   ]
  },
  {
   "attachments": {},
   "cell_type": "markdown",
   "metadata": {},
   "source": [
    "### Initial State Distribution"
   ]
  },
  {
   "cell_type": "code",
   "execution_count": 29,
   "metadata": {},
   "outputs": [],
   "source": [
    "epsilon = 0.001"
   ]
  },
  {
   "cell_type": "code",
   "execution_count": 30,
   "metadata": {},
   "outputs": [
    {
     "data": {
      "text/plain": [
       "1896"
      ]
     },
     "execution_count": 30,
     "metadata": {},
     "output_type": "execute_result"
    }
   ],
   "source": [
    "pi_robert_frost = [np.log10((word_freq+epsilon)/(total_words_robert_frost + epsilon*states_robert_frost)) for word_freq in list(words_robert_frost_freq.values())]\n",
    "len(pi_robert_frost)"
   ]
  },
  {
   "cell_type": "code",
   "execution_count": 31,
   "metadata": {},
   "outputs": [
    {
     "data": {
      "text/plain": [
       "[-2.15290845881839,\n",
       " -3.2750239711983866,\n",
       " -2.9229017608762566,\n",
       " -3.1781356680297157,\n",
       " -1.835795889305451,\n",
       " -2.9229017608762566,\n",
       " -2.9229017608762566,\n",
       " -2.598416064621739,\n",
       " -2.496963185639346,\n",
       " -1.587155684069387]"
      ]
     },
     "execution_count": 31,
     "metadata": {},
     "output_type": "execute_result"
    }
   ],
   "source": [
    "pi_robert_frost[:10]"
   ]
  },
  {
   "cell_type": "code",
   "execution_count": 32,
   "metadata": {},
   "outputs": [
    {
     "data": {
      "text/plain": [
       "1172"
      ]
     },
     "execution_count": 32,
     "metadata": {},
     "output_type": "execute_result"
    }
   ],
   "source": [
    "pi_edgar = [np.log10((word_freq + epsilon)/(total_words_edgar + epsilon*states_edgar)) for word_freq in list(words_edgar_freq.values())]\n",
    "len(pi_edgar)"
   ]
  },
  {
   "cell_type": "code",
   "execution_count": 33,
   "metadata": {},
   "outputs": [
    {
     "data": {
      "text/plain": [
       "[-2.3038273662406676,\n",
       " -2.534258406324964,\n",
       " -3.5338677561225076,\n",
       " -3.0570358381769736,\n",
       " -3.5338677561225076,\n",
       " -1.481219546821413,\n",
       " -3.5338677561225076,\n",
       " -1.3944196001505291,\n",
       " -2.1029219847598903,\n",
       " -2.492869668921561]"
      ]
     },
     "execution_count": 33,
     "metadata": {},
     "output_type": "execute_result"
    }
   ],
   "source": [
    "pi_edgar[:10]"
   ]
  },
  {
   "attachments": {},
   "cell_type": "markdown",
   "metadata": {},
   "source": [
    "### State Transition Matrix"
   ]
  },
  {
   "cell_type": "code",
   "execution_count": 34,
   "metadata": {},
   "outputs": [],
   "source": [
    "for sentc in poet_groupby.get_group('Robert Frost')['text']:\n",
    "    \n",
    "    words = sentc.split()\n",
    "    for word_prev in words:\n",
    "        for word_next in words:\n",
    "            \n",
    "            index_word_prev = words_robert_frost[word_prev]\n",
    "            index_word_next = words_robert_frost[word_next]\n",
    "            \n",
    "            matrix_robert[index_word_prev][index_word_next]+=1"
   ]
  },
  {
   "cell_type": "code",
   "execution_count": 35,
   "metadata": {},
   "outputs": [],
   "source": [
    "for sentc in poet_groupby.get_group('Edgar Allan Poe')['text']:\n",
    "    \n",
    "    words = sentc.split()\n",
    "    for word_prev in words:\n",
    "        for word_next in words:\n",
    "            \n",
    "            index_word_prev = words_edgar[word_prev]\n",
    "            index_word_next = words_edgar[word_next]\n",
    "            \n",
    "            matrix_edgar[index_word_prev][index_word_next]+=1"
   ]
  },
  {
   "cell_type": "code",
   "execution_count": 36,
   "metadata": {},
   "outputs": [
    {
     "data": {
      "text/plain": [
       "1896"
      ]
     },
     "execution_count": 36,
     "metadata": {},
     "output_type": "execute_result"
    }
   ],
   "source": [
    "state_transition_prev_next_robert = []\n",
    "\n",
    "for prev in matrix_robert:\n",
    "    state_transition_prev_next_robert.append(np.sum(prev))\n",
    "    \n",
    "len(state_transition_prev_next_robert)"
   ]
  },
  {
   "cell_type": "code",
   "execution_count": 37,
   "metadata": {},
   "outputs": [
    {
     "data": {
      "text/plain": [
       "1172"
      ]
     },
     "execution_count": 37,
     "metadata": {},
     "output_type": "execute_result"
    }
   ],
   "source": [
    "state_transition_prev_next_edgar = []\n",
    "\n",
    "for prev in matrix_edgar:\n",
    "    state_transition_prev_next_edgar.append(np.sum(prev))\n",
    "    \n",
    "len(state_transition_prev_next_edgar)"
   ]
  },
  {
   "cell_type": "code",
   "execution_count": 38,
   "metadata": {},
   "outputs": [],
   "source": [
    "matrix_robert_sub = [[0]*len(words_robert_frost)]*len(words_robert_frost)\n",
    "matrix_edgar_sub = [[0]*len(words_edgar)]*len(words_edgar)"
   ]
  },
  {
   "cell_type": "code",
   "execution_count": 39,
   "metadata": {},
   "outputs": [],
   "source": [
    "for i in range(states_robert_frost):\n",
    "    for j in range(states_robert_frost):\n",
    "        matrix_robert_sub[i][j] = np.log10((matrix_robert[i][j]+epsilon)/(state_transition_prev_next_robert[i] + epsilon*states_robert_frost))"
   ]
  },
  {
   "cell_type": "code",
   "execution_count": 40,
   "metadata": {},
   "outputs": [
    {
     "data": {
      "text/plain": [
       "[-2.1124741098688733,\n",
       " -3.230102464282067,\n",
       " -2.9055977219731393,\n",
       " -3.1843461800631188,\n",
       " -1.824521080829209,\n",
       " -2.8999206632934795,\n",
       " -2.9171794400817417,\n",
       " -2.672470335596642,\n",
       " -2.4539765487321716,\n",
       " -1.6071522768565896]"
      ]
     },
     "execution_count": 40,
     "metadata": {},
     "output_type": "execute_result"
    }
   ],
   "source": [
    "matrix_robert_sub[0][:10]"
   ]
  },
  {
   "cell_type": "code",
   "execution_count": 41,
   "metadata": {},
   "outputs": [],
   "source": [
    "for i in range(states_edgar):\n",
    "    for j in range(states_edgar):\n",
    "        matrix_edgar_sub[i][j] = np.log10((matrix_edgar[i][j]+epsilon)/(state_transition_prev_next_edgar[i] + epsilon*states_edgar))"
   ]
  },
  {
   "cell_type": "code",
   "execution_count": 42,
   "metadata": {},
   "outputs": [
    {
     "data": {
      "text/plain": [
       "[-2.276022765653348,\n",
       " -2.5544419917069394,\n",
       " -3.548137298869566,\n",
       " -3.1145209185658667,\n",
       " -3.548137298869566,\n",
       " -1.4721308051472963,\n",
       " -3.548137298869566,\n",
       " -1.3950376020593953,\n",
       " -2.0731490124514007,\n",
       " -2.4488097692348165]"
      ]
     },
     "execution_count": 42,
     "metadata": {},
     "output_type": "execute_result"
    }
   ],
   "source": [
    "matrix_edgar_sub[0][:10]"
   ]
  },
  {
   "attachments": {},
   "cell_type": "markdown",
   "metadata": {},
   "source": [
    "### Training the model"
   ]
  },
  {
   "cell_type": "code",
   "execution_count": 43,
   "metadata": {},
   "outputs": [
    {
     "data": {
      "text/html": [
       "<div>\n",
       "<style scoped>\n",
       "    .dataframe tbody tr th:only-of-type {\n",
       "        vertical-align: middle;\n",
       "    }\n",
       "\n",
       "    .dataframe tbody tr th {\n",
       "        vertical-align: top;\n",
       "    }\n",
       "\n",
       "    .dataframe thead th {\n",
       "        text-align: right;\n",
       "    }\n",
       "</style>\n",
       "<table border=\"1\" class=\"dataframe\">\n",
       "  <thead>\n",
       "    <tr style=\"text-align: right;\">\n",
       "      <th></th>\n",
       "      <th>text</th>\n",
       "      <th>labels</th>\n",
       "    </tr>\n",
       "  </thead>\n",
       "  <tbody>\n",
       "    <tr>\n",
       "      <th>1250</th>\n",
       "      <td></td>\n",
       "      <td>Robert Frost</td>\n",
       "    </tr>\n",
       "    <tr>\n",
       "      <th>790</th>\n",
       "      <td></td>\n",
       "      <td>Robert Frost</td>\n",
       "    </tr>\n",
       "    <tr>\n",
       "      <th>1853</th>\n",
       "      <td></td>\n",
       "      <td>Edgar Allan Poe</td>\n",
       "    </tr>\n",
       "    <tr>\n",
       "      <th>1571</th>\n",
       "      <td></td>\n",
       "      <td>Robert Frost</td>\n",
       "    </tr>\n",
       "    <tr>\n",
       "      <th>1638</th>\n",
       "      <td></td>\n",
       "      <td>Edgar Allan Poe</td>\n",
       "    </tr>\n",
       "    <tr>\n",
       "      <th>...</th>\n",
       "      <td>...</td>\n",
       "      <td>...</td>\n",
       "    </tr>\n",
       "    <tr>\n",
       "      <th>540</th>\n",
       "      <td></td>\n",
       "      <td>Robert Frost</td>\n",
       "    </tr>\n",
       "    <tr>\n",
       "      <th>394</th>\n",
       "      <td></td>\n",
       "      <td>Robert Frost</td>\n",
       "    </tr>\n",
       "    <tr>\n",
       "      <th>436</th>\n",
       "      <td></td>\n",
       "      <td>Robert Frost</td>\n",
       "    </tr>\n",
       "    <tr>\n",
       "      <th>371</th>\n",
       "      <td></td>\n",
       "      <td>Robert Frost</td>\n",
       "    </tr>\n",
       "    <tr>\n",
       "      <th>1576</th>\n",
       "      <td></td>\n",
       "      <td>Robert Frost</td>\n",
       "    </tr>\n",
       "  </tbody>\n",
       "</table>\n",
       "<p>158 rows × 2 columns</p>\n",
       "</div>"
      ],
      "text/plain": [
       "     text           labels\n",
       "1250          Robert Frost\n",
       "790           Robert Frost\n",
       "1853       Edgar Allan Poe\n",
       "1571          Robert Frost\n",
       "1638       Edgar Allan Poe\n",
       "...   ...              ...\n",
       "540           Robert Frost\n",
       "394           Robert Frost\n",
       "436           Robert Frost\n",
       "371           Robert Frost\n",
       "1576          Robert Frost\n",
       "\n",
       "[158 rows x 2 columns]"
      ]
     },
     "execution_count": 43,
     "metadata": {},
     "output_type": "execute_result"
    }
   ],
   "source": [
    "X_train.loc[X_train['text']=='']"
   ]
  },
  {
   "cell_type": "code",
   "execution_count": 44,
   "metadata": {},
   "outputs": [
    {
     "data": {
      "text/html": [
       "<div>\n",
       "<style scoped>\n",
       "    .dataframe tbody tr th:only-of-type {\n",
       "        vertical-align: middle;\n",
       "    }\n",
       "\n",
       "    .dataframe tbody tr th {\n",
       "        vertical-align: top;\n",
       "    }\n",
       "\n",
       "    .dataframe thead th {\n",
       "        text-align: right;\n",
       "    }\n",
       "</style>\n",
       "<table border=\"1\" class=\"dataframe\">\n",
       "  <thead>\n",
       "    <tr style=\"text-align: right;\">\n",
       "      <th></th>\n",
       "      <th>text</th>\n",
       "      <th>labels</th>\n",
       "    </tr>\n",
       "  </thead>\n",
       "  <tbody>\n",
       "    <tr>\n",
       "      <th>768</th>\n",
       "      <td></td>\n",
       "      <td>Robert Frost</td>\n",
       "    </tr>\n",
       "    <tr>\n",
       "      <th>172</th>\n",
       "      <td></td>\n",
       "      <td>Robert Frost</td>\n",
       "    </tr>\n",
       "    <tr>\n",
       "      <th>455</th>\n",
       "      <td></td>\n",
       "      <td>Robert Frost</td>\n",
       "    </tr>\n",
       "    <tr>\n",
       "      <th>257</th>\n",
       "      <td></td>\n",
       "      <td>Robert Frost</td>\n",
       "    </tr>\n",
       "    <tr>\n",
       "      <th>1116</th>\n",
       "      <td></td>\n",
       "      <td>Robert Frost</td>\n",
       "    </tr>\n",
       "    <tr>\n",
       "      <th>...</th>\n",
       "      <td>...</td>\n",
       "      <td>...</td>\n",
       "    </tr>\n",
       "    <tr>\n",
       "      <th>1046</th>\n",
       "      <td></td>\n",
       "      <td>Robert Frost</td>\n",
       "    </tr>\n",
       "    <tr>\n",
       "      <th>177</th>\n",
       "      <td></td>\n",
       "      <td>Robert Frost</td>\n",
       "    </tr>\n",
       "    <tr>\n",
       "      <th>1751</th>\n",
       "      <td></td>\n",
       "      <td>Edgar Allan Poe</td>\n",
       "    </tr>\n",
       "    <tr>\n",
       "      <th>242</th>\n",
       "      <td></td>\n",
       "      <td>Robert Frost</td>\n",
       "    </tr>\n",
       "    <tr>\n",
       "      <th>1214</th>\n",
       "      <td></td>\n",
       "      <td>Robert Frost</td>\n",
       "    </tr>\n",
       "  </tbody>\n",
       "</table>\n",
       "<p>62 rows × 2 columns</p>\n",
       "</div>"
      ],
      "text/plain": [
       "     text           labels\n",
       "768           Robert Frost\n",
       "172           Robert Frost\n",
       "455           Robert Frost\n",
       "257           Robert Frost\n",
       "1116          Robert Frost\n",
       "...   ...              ...\n",
       "1046          Robert Frost\n",
       "177           Robert Frost\n",
       "1751       Edgar Allan Poe\n",
       "242           Robert Frost\n",
       "1214          Robert Frost\n",
       "\n",
       "[62 rows x 2 columns]"
      ]
     },
     "execution_count": 44,
     "metadata": {},
     "output_type": "execute_result"
    }
   ],
   "source": [
    "X_test.loc[X_test['text']=='']"
   ]
  },
  {
   "cell_type": "code",
   "execution_count": 45,
   "metadata": {},
   "outputs": [],
   "source": [
    "drop_index_test = X_test.loc[X_test['text']==''].index\n",
    "drop_index_train = X_train.loc[X_train['text']==''].index"
   ]
  },
  {
   "cell_type": "code",
   "execution_count": 46,
   "metadata": {},
   "outputs": [],
   "source": [
    "X_test = X_test.drop(drop_index_test)\n",
    "y_test = y_test.drop(drop_index_test)"
   ]
  },
  {
   "cell_type": "code",
   "execution_count": 47,
   "metadata": {},
   "outputs": [],
   "source": [
    "X_train = X_train.drop(drop_index_train)\n",
    "y_train = y_train.drop(drop_index_train)"
   ]
  },
  {
   "cell_type": "code",
   "execution_count": 48,
   "metadata": {},
   "outputs": [
    {
     "data": {
      "text/html": [
       "<div>\n",
       "<style scoped>\n",
       "    .dataframe tbody tr th:only-of-type {\n",
       "        vertical-align: middle;\n",
       "    }\n",
       "\n",
       "    .dataframe tbody tr th {\n",
       "        vertical-align: top;\n",
       "    }\n",
       "\n",
       "    .dataframe thead th {\n",
       "        text-align: right;\n",
       "    }\n",
       "</style>\n",
       "<table border=\"1\" class=\"dataframe\">\n",
       "  <thead>\n",
       "    <tr style=\"text-align: right;\">\n",
       "      <th></th>\n",
       "      <th>text</th>\n",
       "      <th>labels</th>\n",
       "    </tr>\n",
       "  </thead>\n",
       "  <tbody>\n",
       "  </tbody>\n",
       "</table>\n",
       "</div>"
      ],
      "text/plain": [
       "Empty DataFrame\n",
       "Columns: [text, labels]\n",
       "Index: []"
      ]
     },
     "execution_count": 48,
     "metadata": {},
     "output_type": "execute_result"
    }
   ],
   "source": [
    "X_train.loc[X_train['text']=='']"
   ]
  },
  {
   "cell_type": "code",
   "execution_count": 49,
   "metadata": {},
   "outputs": [
    {
     "data": {
      "text/html": [
       "<div>\n",
       "<style scoped>\n",
       "    .dataframe tbody tr th:only-of-type {\n",
       "        vertical-align: middle;\n",
       "    }\n",
       "\n",
       "    .dataframe tbody tr th {\n",
       "        vertical-align: top;\n",
       "    }\n",
       "\n",
       "    .dataframe thead th {\n",
       "        text-align: right;\n",
       "    }\n",
       "</style>\n",
       "<table border=\"1\" class=\"dataframe\">\n",
       "  <thead>\n",
       "    <tr style=\"text-align: right;\">\n",
       "      <th></th>\n",
       "      <th>text</th>\n",
       "      <th>labels</th>\n",
       "    </tr>\n",
       "  </thead>\n",
       "  <tbody>\n",
       "  </tbody>\n",
       "</table>\n",
       "</div>"
      ],
      "text/plain": [
       "Empty DataFrame\n",
       "Columns: [text, labels]\n",
       "Index: []"
      ]
     },
     "execution_count": 49,
     "metadata": {},
     "output_type": "execute_result"
    }
   ],
   "source": [
    "X_test.loc[X_test['text']=='']"
   ]
  },
  {
   "attachments": {},
   "cell_type": "markdown",
   "metadata": {},
   "source": [
    "### Testing on X_test"
   ]
  },
  {
   "cell_type": "code",
   "execution_count": 50,
   "metadata": {},
   "outputs": [],
   "source": [
    "new_word_robert_frost_pi = np.log10(epsilon/(total_words_robert_frost + epsilon*states_robert_frost))\n",
    "new_word_edgar_pi = np.log10(epsilon/(total_words_edgar + epsilon*states_edgar))"
   ]
  },
  {
   "cell_type": "code",
   "execution_count": 51,
   "metadata": {},
   "outputs": [
    {
     "data": {
      "text/plain": [
       "-6.534301833601826"
      ]
     },
     "execution_count": 51,
     "metadata": {},
     "output_type": "execute_result"
    }
   ],
   "source": [
    "new_word_edgar_pi"
   ]
  },
  {
   "cell_type": "code",
   "execution_count": 52,
   "metadata": {},
   "outputs": [
    {
     "data": {
      "text/plain": [
       "-6.877192522577384"
      ]
     },
     "execution_count": 52,
     "metadata": {},
     "output_type": "execute_result"
    }
   ],
   "source": [
    "new_word_robert_frost_pi"
   ]
  },
  {
   "cell_type": "code",
   "execution_count": 53,
   "metadata": {},
   "outputs": [],
   "source": [
    "new_word_robert_frost_matrix = np.log10(1.0/states_robert_frost)\n",
    "new_word_edgar_matrix = np.log10(1.0/states_edgar)"
   ]
  },
  {
   "cell_type": "code",
   "execution_count": 54,
   "metadata": {},
   "outputs": [
    {
     "data": {
      "text/plain": [
       "-3.0689276116820716"
      ]
     },
     "execution_count": 54,
     "metadata": {},
     "output_type": "execute_result"
    }
   ],
   "source": [
    "new_word_edgar_matrix"
   ]
  },
  {
   "cell_type": "code",
   "execution_count": 55,
   "metadata": {},
   "outputs": [
    {
     "data": {
      "text/plain": [
       "-3.2778383330020473"
      ]
     },
     "execution_count": 55,
     "metadata": {},
     "output_type": "execute_result"
    }
   ],
   "source": [
    "new_word_robert_frost_matrix"
   ]
  },
  {
   "cell_type": "code",
   "execution_count": 56,
   "metadata": {},
   "outputs": [
    {
     "data": {
      "text/html": [
       "<div>\n",
       "<style scoped>\n",
       "    .dataframe tbody tr th:only-of-type {\n",
       "        vertical-align: middle;\n",
       "    }\n",
       "\n",
       "    .dataframe tbody tr th {\n",
       "        vertical-align: top;\n",
       "    }\n",
       "\n",
       "    .dataframe thead th {\n",
       "        text-align: right;\n",
       "    }\n",
       "</style>\n",
       "<table border=\"1\" class=\"dataframe\">\n",
       "  <thead>\n",
       "    <tr style=\"text-align: right;\">\n",
       "      <th></th>\n",
       "      <th>text</th>\n",
       "      <th>labels</th>\n",
       "    </tr>\n",
       "  </thead>\n",
       "  <tbody>\n",
       "    <tr>\n",
       "      <th>1125</th>\n",
       "      <td>who only has at heart your getting lost</td>\n",
       "      <td>Robert Frost</td>\n",
       "    </tr>\n",
       "    <tr>\n",
       "      <th>1933</th>\n",
       "      <td>not long ago the writer of these lines</td>\n",
       "      <td>Edgar Allan Poe</td>\n",
       "    </tr>\n",
       "    <tr>\n",
       "      <th>495</th>\n",
       "      <td>except it seemed the poetess's poems</td>\n",
       "      <td>Robert Frost</td>\n",
       "    </tr>\n",
       "    <tr>\n",
       "      <th>300</th>\n",
       "      <td>but most would have to think of the expense</td>\n",
       "      <td>Robert Frost</td>\n",
       "    </tr>\n",
       "    <tr>\n",
       "      <th>1602</th>\n",
       "      <td>of scultur'd ivy and stone flowers</td>\n",
       "      <td>Edgar Allan Poe</td>\n",
       "    </tr>\n",
       "    <tr>\n",
       "      <th>...</th>\n",
       "      <td>...</td>\n",
       "      <td>...</td>\n",
       "    </tr>\n",
       "    <tr>\n",
       "      <th>1277</th>\n",
       "      <td>with the furthest bodies</td>\n",
       "      <td>Robert Frost</td>\n",
       "    </tr>\n",
       "    <tr>\n",
       "      <th>867</th>\n",
       "      <td>all claiming some priority in starkness</td>\n",
       "      <td>Robert Frost</td>\n",
       "    </tr>\n",
       "    <tr>\n",
       "      <th>1562</th>\n",
       "      <td>it lifts existence on a plane of snow</td>\n",
       "      <td>Robert Frost</td>\n",
       "    </tr>\n",
       "    <tr>\n",
       "      <th>1242</th>\n",
       "      <td>of dust and feather</td>\n",
       "      <td>Robert Frost</td>\n",
       "    </tr>\n",
       "    <tr>\n",
       "      <th>569</th>\n",
       "      <td>i can't say he's much help</td>\n",
       "      <td>Robert Frost</td>\n",
       "    </tr>\n",
       "  </tbody>\n",
       "</table>\n",
       "<p>652 rows × 2 columns</p>\n",
       "</div>"
      ],
      "text/plain": [
       "                                             text           labels\n",
       "1125      who only has at heart your getting lost     Robert Frost\n",
       "1933       not long ago the writer of these lines  Edgar Allan Poe\n",
       "495          except it seemed the poetess's poems     Robert Frost\n",
       "300   but most would have to think of the expense     Robert Frost\n",
       "1602           of scultur'd ivy and stone flowers  Edgar Allan Poe\n",
       "...                                           ...              ...\n",
       "1277                     with the furthest bodies     Robert Frost\n",
       "867      all claiming some priority in starkness      Robert Frost\n",
       "1562        it lifts existence on a plane of snow     Robert Frost\n",
       "1242                          of dust and feather     Robert Frost\n",
       "569                    i can't say he's much help     Robert Frost\n",
       "\n",
       "[652 rows x 2 columns]"
      ]
     },
     "execution_count": 56,
     "metadata": {},
     "output_type": "execute_result"
    }
   ],
   "source": [
    "X_test"
   ]
  },
  {
   "cell_type": "code",
   "execution_count": 57,
   "metadata": {},
   "outputs": [
    {
     "data": {
      "text/plain": [
       "1125       Robert Frost\n",
       "1933    Edgar Allan Poe\n",
       "495        Robert Frost\n",
       "300        Robert Frost\n",
       "1602    Edgar Allan Poe\n",
       "             ...       \n",
       "1277       Robert Frost\n",
       "867        Robert Frost\n",
       "1562       Robert Frost\n",
       "1242       Robert Frost\n",
       "569        Robert Frost\n",
       "Name: labels, Length: 652, dtype: object"
      ]
     },
     "execution_count": 57,
     "metadata": {},
     "output_type": "execute_result"
    }
   ],
   "source": [
    "y_test"
   ]
  },
  {
   "cell_type": "code",
   "execution_count": 58,
   "metadata": {},
   "outputs": [],
   "source": [
    "def evaluate(sentc : str)->str:\n",
    "    \n",
    "    words = sentc.split()\n",
    "    \n",
    "    eval_robert_frost = 0\n",
    "    eval_edgar = 0\n",
    "    \n",
    "    if words[0] not in words_robert_frost.keys():\n",
    "        eval_robert_frost+=new_word_robert_frost_pi\n",
    "    else:\n",
    "        eval_robert_frost+=pi_robert_frost[words_robert_frost[words[0]]]\n",
    "    \n",
    "    if words[0] not in words_edgar.keys():\n",
    "        eval_edgar+=new_word_edgar_pi\n",
    "    else :\n",
    "        eval_edgar+=pi_edgar[words_edgar[words[0]]]\n",
    "    \n",
    "    for i in range(1,len(words)):\n",
    "        \n",
    "        if (words[i] in words_robert_frost.keys()) and (words[i-1] in words_robert_frost.keys()):\n",
    "            eval_robert_frost+=matrix_robert_sub[words_robert_frost[words[i-1]]][words_robert_frost[words[i]]]\n",
    "        else:\n",
    "            eval_robert_frost+=new_word_robert_frost_matrix\n",
    "        \n",
    "        if (words[i] in words_edgar.keys()) and (words[i-1] in words_edgar .keys()):\n",
    "            eval_edgar+=matrix_edgar_sub[words_edgar[words[i-1]]][words_edgar[words[i]]]\n",
    "        else:\n",
    "            eval_edgar+=new_word_edgar_matrix\n",
    "        \n",
    "        \n",
    "    if eval_robert_frost>=eval_edgar:\n",
    "        return 'Robert Frost'\n",
    "    \n",
    "    return 'Edgar Allan Poe'"
   ]
  },
  {
   "cell_type": "code",
   "execution_count": 59,
   "metadata": {},
   "outputs": [],
   "source": [
    "X_test['y pred'] = X_test['text'].apply(evaluate)"
   ]
  },
  {
   "cell_type": "code",
   "execution_count": 60,
   "metadata": {},
   "outputs": [
    {
     "data": {
      "text/html": [
       "<div>\n",
       "<style scoped>\n",
       "    .dataframe tbody tr th:only-of-type {\n",
       "        vertical-align: middle;\n",
       "    }\n",
       "\n",
       "    .dataframe tbody tr th {\n",
       "        vertical-align: top;\n",
       "    }\n",
       "\n",
       "    .dataframe thead th {\n",
       "        text-align: right;\n",
       "    }\n",
       "</style>\n",
       "<table border=\"1\" class=\"dataframe\">\n",
       "  <thead>\n",
       "    <tr style=\"text-align: right;\">\n",
       "      <th></th>\n",
       "      <th>text</th>\n",
       "      <th>labels</th>\n",
       "      <th>y pred</th>\n",
       "    </tr>\n",
       "  </thead>\n",
       "  <tbody>\n",
       "    <tr>\n",
       "      <th>1125</th>\n",
       "      <td>who only has at heart your getting lost</td>\n",
       "      <td>Robert Frost</td>\n",
       "      <td>Edgar Allan Poe</td>\n",
       "    </tr>\n",
       "    <tr>\n",
       "      <th>1933</th>\n",
       "      <td>not long ago the writer of these lines</td>\n",
       "      <td>Edgar Allan Poe</td>\n",
       "      <td>Edgar Allan Poe</td>\n",
       "    </tr>\n",
       "    <tr>\n",
       "      <th>495</th>\n",
       "      <td>except it seemed the poetess's poems</td>\n",
       "      <td>Robert Frost</td>\n",
       "      <td>Robert Frost</td>\n",
       "    </tr>\n",
       "    <tr>\n",
       "      <th>300</th>\n",
       "      <td>but most would have to think of the expense</td>\n",
       "      <td>Robert Frost</td>\n",
       "      <td>Edgar Allan Poe</td>\n",
       "    </tr>\n",
       "    <tr>\n",
       "      <th>1602</th>\n",
       "      <td>of scultur'd ivy and stone flowers</td>\n",
       "      <td>Edgar Allan Poe</td>\n",
       "      <td>Edgar Allan Poe</td>\n",
       "    </tr>\n",
       "    <tr>\n",
       "      <th>...</th>\n",
       "      <td>...</td>\n",
       "      <td>...</td>\n",
       "      <td>...</td>\n",
       "    </tr>\n",
       "    <tr>\n",
       "      <th>1277</th>\n",
       "      <td>with the furthest bodies</td>\n",
       "      <td>Robert Frost</td>\n",
       "      <td>Edgar Allan Poe</td>\n",
       "    </tr>\n",
       "    <tr>\n",
       "      <th>867</th>\n",
       "      <td>all claiming some priority in starkness</td>\n",
       "      <td>Robert Frost</td>\n",
       "      <td>Edgar Allan Poe</td>\n",
       "    </tr>\n",
       "    <tr>\n",
       "      <th>1562</th>\n",
       "      <td>it lifts existence on a plane of snow</td>\n",
       "      <td>Robert Frost</td>\n",
       "      <td>Edgar Allan Poe</td>\n",
       "    </tr>\n",
       "    <tr>\n",
       "      <th>1242</th>\n",
       "      <td>of dust and feather</td>\n",
       "      <td>Robert Frost</td>\n",
       "      <td>Edgar Allan Poe</td>\n",
       "    </tr>\n",
       "    <tr>\n",
       "      <th>569</th>\n",
       "      <td>i can't say he's much help</td>\n",
       "      <td>Robert Frost</td>\n",
       "      <td>Robert Frost</td>\n",
       "    </tr>\n",
       "  </tbody>\n",
       "</table>\n",
       "<p>652 rows × 3 columns</p>\n",
       "</div>"
      ],
      "text/plain": [
       "                                             text           labels  \\\n",
       "1125      who only has at heart your getting lost     Robert Frost   \n",
       "1933       not long ago the writer of these lines  Edgar Allan Poe   \n",
       "495          except it seemed the poetess's poems     Robert Frost   \n",
       "300   but most would have to think of the expense     Robert Frost   \n",
       "1602           of scultur'd ivy and stone flowers  Edgar Allan Poe   \n",
       "...                                           ...              ...   \n",
       "1277                     with the furthest bodies     Robert Frost   \n",
       "867      all claiming some priority in starkness      Robert Frost   \n",
       "1562        it lifts existence on a plane of snow     Robert Frost   \n",
       "1242                          of dust and feather     Robert Frost   \n",
       "569                    i can't say he's much help     Robert Frost   \n",
       "\n",
       "               y pred  \n",
       "1125  Edgar Allan Poe  \n",
       "1933  Edgar Allan Poe  \n",
       "495      Robert Frost  \n",
       "300   Edgar Allan Poe  \n",
       "1602  Edgar Allan Poe  \n",
       "...               ...  \n",
       "1277  Edgar Allan Poe  \n",
       "867   Edgar Allan Poe  \n",
       "1562  Edgar Allan Poe  \n",
       "1242  Edgar Allan Poe  \n",
       "569      Robert Frost  \n",
       "\n",
       "[652 rows x 3 columns]"
      ]
     },
     "execution_count": 60,
     "metadata": {},
     "output_type": "execute_result"
    }
   ],
   "source": [
    "X_test"
   ]
  },
  {
   "cell_type": "code",
   "execution_count": 62,
   "metadata": {},
   "outputs": [
    {
     "name": "stdout",
     "output_type": "stream",
     "text": [
      "                 precision    recall  f1-score   support\n",
      "\n",
      "Edgar Allan Poe       0.47      0.83      0.60       212\n",
      "   Robert Frost       0.87      0.56      0.68       440\n",
      "\n",
      "       accuracy                           0.65       652\n",
      "      macro avg       0.67      0.69      0.64       652\n",
      "   weighted avg       0.74      0.65      0.66       652\n",
      "\n"
     ]
    }
   ],
   "source": [
    "print(classification_report(y_pred=X_test['y pred'],y_true=y_test))"
   ]
  },
  {
   "cell_type": "code",
   "execution_count": 66,
   "metadata": {},
   "outputs": [
    {
     "data": {
      "text/plain": [
       "<sklearn.metrics._plot.confusion_matrix.ConfusionMatrixDisplay at 0x7fafa99571c0>"
      ]
     },
     "execution_count": 66,
     "metadata": {},
     "output_type": "execute_result"
    },
    {
     "data": {
      "image/png": "[encoded data removed]",
      "text/plain": [
       "<Figure size 432x288 with 2 Axes>"
      ]
     },
     "metadata": {
      "needs_background": "light"
     },
     "output_type": "display_data"
    }
   ],
   "source": [
    "ConfusionMatrixDisplay(confusion_matrix=confusion_matrix(y_pred=X_test['y pred'],y_true=y_test),display_labels=['Edgar Allan Poe','Robert Frost']).plot()"
   ]
  }
 ],
 "metadata": {
  "kernelspec": {
   "display_name": "base",
   "language": "python",
   "name": "python3"
  },
  "language_info": {
   "codemirror_mode": {
    "name": "ipython",
    "version": 3
   },
   "file_extension": ".py",
   "mimetype": "text/x-python",
   "name": "python",
   "nbconvert_exporter": "python",
   "pygments_lexer": "ipython3",
   "version": "3.9.12"
  },
  "orig_nbformat": 4
 },
 "nbformat": 4,
 "nbformat_minor": 2
}
